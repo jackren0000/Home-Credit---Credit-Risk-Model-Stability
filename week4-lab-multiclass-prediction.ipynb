{
 "cells": [
  {
   "cell_type": "markdown",
   "id": "57dfbbf6",
   "metadata": {
    "papermill": {
     "duration": 0.023746,
     "end_time": "2024-02-22T08:04:53.796848",
     "exception": false,
     "start_time": "2024-02-22T08:04:53.773102",
     "status": "completed"
    },
    "tags": []
   },
   "source": [
    "<p style=\"text-align:center\">\n",
    "    <a href=\"https://skills.network/?utm_medium=Exinfluencer&utm_source=Exinfluencer&utm_content=000026UJ&utm_term=10006555&utm_id=NA-SkillsNetwork-Channel-SkillsNetworkCoursesIBMDeveloperSkillsNetworkML0101ENSkillsNetwork1047-2023-01-01\">\n",
    "    <img src=\"https://cf-courses-data.s3.us.cloud-object-storage.appdomain.cloud/assets/logos/SN_web_lightmode.png\" width=\"200\" alt=\"Skills Network Logo\"  />\n",
    "    </a>\n",
    "</p>\n"
   ]
  },
  {
   "cell_type": "markdown",
   "id": "2afd07e7",
   "metadata": {
    "papermill": {
     "duration": 0.023599,
     "end_time": "2024-02-22T08:04:53.842802",
     "exception": false,
     "start_time": "2024-02-22T08:04:53.819203",
     "status": "completed"
    },
    "tags": []
   },
   "source": [
    "#  **Softmax Regression, One-vs-All and One-vs-One for Multi-class Classification**\n"
   ]
  },
  {
   "cell_type": "markdown",
   "id": "b168fe81",
   "metadata": {
    "papermill": {
     "duration": 0.02228,
     "end_time": "2024-02-22T08:04:53.887424",
     "exception": false,
     "start_time": "2024-02-22T08:04:53.865144",
     "status": "completed"
    },
    "tags": []
   },
   "source": [
    "Estimated time needed: **1** hour\n"
   ]
  },
  {
   "cell_type": "markdown",
   "id": "a961d989",
   "metadata": {
    "papermill": {
     "duration": 0.022283,
     "end_time": "2024-02-22T08:04:53.932952",
     "exception": false,
     "start_time": "2024-02-22T08:04:53.910669",
     "status": "completed"
    },
    "tags": []
   },
   "source": [
    " In this lab, we will study how to convert a linear classifier into a multi-class classifier, including multinomial logistic regression or softmax regression, One vs. All (One-vs-Rest) and One vs. One.\n"
   ]
  },
  {
   "cell_type": "markdown",
   "id": "39361999",
   "metadata": {
    "papermill": {
     "duration": 0.022302,
     "end_time": "2024-02-22T08:04:53.980231",
     "exception": false,
     "start_time": "2024-02-22T08:04:53.957929",
     "status": "completed"
    },
    "tags": []
   },
   "source": [
    "## **Objectives**\n"
   ]
  },
  {
   "cell_type": "markdown",
   "id": "ea0fdd5f",
   "metadata": {
    "papermill": {
     "duration": 0.022146,
     "end_time": "2024-02-22T08:04:54.024968",
     "exception": false,
     "start_time": "2024-02-22T08:04:54.002822",
     "status": "completed"
    },
    "tags": []
   },
   "source": [
    "After completing this lab you will be able to:\n"
   ]
  },
  {
   "cell_type": "markdown",
   "id": "08aeffc1",
   "metadata": {
    "papermill": {
     "duration": 0.022059,
     "end_time": "2024-02-22T08:04:54.069614",
     "exception": false,
     "start_time": "2024-02-22T08:04:54.047555",
     "status": "completed"
    },
    "tags": []
   },
   "source": [
    "*   Understand and apply some theory behind:\n",
    "    *  Softmax regression\n",
    "    *  One vs. All (One-vs-Rest)\n",
    "    * One vs. One\n"
   ]
  },
  {
   "cell_type": "markdown",
   "id": "33a4397f",
   "metadata": {
    "papermill": {
     "duration": 0.021992,
     "end_time": "2024-02-22T08:04:54.114091",
     "exception": false,
     "start_time": "2024-02-22T08:04:54.092099",
     "status": "completed"
    },
    "tags": []
   },
   "source": [
    "## **Introduction**\n"
   ]
  },
  {
   "cell_type": "markdown",
   "id": "3b9e4225",
   "metadata": {
    "papermill": {
     "duration": 0.021879,
     "end_time": "2024-02-22T08:04:54.158411",
     "exception": false,
     "start_time": "2024-02-22T08:04:54.136532",
     "status": "completed"
    },
    "tags": []
   },
   "source": [
    "In Multi-class classification, we classify data into multiple class labels. Unlike classification trees and k-nearest neighbor, the concept of multi-class classification for linear classifiers is not as straightforward. We can convert logistic regression to multi-class classification using multinomial logistic regression or softmax regression; this is a generalization of logistic regression, this will not work for support vector machines. One vs. All (One-vs-Rest) and One vs. One are two other multi-class classification techniques can convert any two-class classifier into a multi-class classifier.\n"
   ]
  },
  {
   "cell_type": "markdown",
   "id": "e2c13d4e",
   "metadata": {
    "papermill": {
     "duration": 0.022069,
     "end_time": "2024-02-22T08:04:54.202538",
     "exception": false,
     "start_time": "2024-02-22T08:04:54.180469",
     "status": "completed"
    },
    "tags": []
   },
   "source": [
    "***\n"
   ]
  },
  {
   "cell_type": "markdown",
   "id": "f06644a0",
   "metadata": {
    "papermill": {
     "duration": 0.021886,
     "end_time": "2024-02-22T08:04:54.248043",
     "exception": false,
     "start_time": "2024-02-22T08:04:54.226157",
     "status": "completed"
    },
    "tags": []
   },
   "source": [
    "## **Install and Import the required libraries**\n"
   ]
  },
  {
   "cell_type": "markdown",
   "id": "fb5b5238",
   "metadata": {
    "papermill": {
     "duration": 0.022028,
     "end_time": "2024-02-22T08:04:54.292441",
     "exception": false,
     "start_time": "2024-02-22T08:04:54.270413",
     "status": "completed"
    },
    "tags": []
   },
   "source": [
    "For this lab, we are going to be using several Python libraries such as scit-learn, numpy, and matplotlib  for visualizations. Some of these libraries might be installed in your lab environment, and others may need to be installed by you by removing the hash signs. The cells below will install these libraries when executed.\n"
   ]
  },
  {
   "cell_type": "code",
   "execution_count": 1,
   "id": "31bab382",
   "metadata": {
    "execution": {
     "iopub.execute_input": "2024-02-22T08:04:54.339381Z",
     "iopub.status.busy": "2024-02-22T08:04:54.338882Z",
     "iopub.status.idle": "2024-02-22T08:04:56.836747Z",
     "shell.execute_reply": "2024-02-22T08:04:56.835526Z"
    },
    "papermill": {
     "duration": 2.524786,
     "end_time": "2024-02-22T08:04:56.839611",
     "exception": false,
     "start_time": "2024-02-22T08:04:54.314825",
     "status": "completed"
    },
    "tags": []
   },
   "outputs": [],
   "source": [
    "import numpy as np\n",
    "import pandas as pd\n",
    "import matplotlib.pyplot as plt\n",
    "# standard datasets\n",
    "from sklearn import datasets\n",
    "# support vector machine\n",
    "from sklearn.svm import SVC\n",
    "# logistic regression\n",
    "from sklearn.linear_model import LogisticRegression\n",
    "# model evaluation metrics\n",
    "from sklearn.metrics import accuracy_score"
   ]
  },
  {
   "cell_type": "markdown",
   "id": "39c75f89",
   "metadata": {
    "papermill": {
     "duration": 0.022469,
     "end_time": "2024-02-22T08:04:56.884855",
     "exception": false,
     "start_time": "2024-02-22T08:04:56.862386",
     "status": "completed"
    },
    "tags": []
   },
   "source": [
    "## Utility Function\n"
   ]
  },
  {
   "cell_type": "markdown",
   "id": "ddecfc4e",
   "metadata": {
    "papermill": {
     "duration": 0.022702,
     "end_time": "2024-02-22T08:04:56.930154",
     "exception": false,
     "start_time": "2024-02-22T08:04:56.907452",
     "status": "completed"
    },
    "tags": []
   },
   "source": [
    "This function plots a different decision boundary. \n"
   ]
  },
  {
   "cell_type": "code",
   "execution_count": 2,
   "id": "5c9c62d0",
   "metadata": {
    "execution": {
     "iopub.execute_input": "2024-02-22T08:04:56.977568Z",
     "iopub.status.busy": "2024-02-22T08:04:56.977067Z",
     "iopub.status.idle": "2024-02-22T08:04:56.990389Z",
     "shell.execute_reply": "2024-02-22T08:04:56.989514Z"
    },
    "papermill": {
     "duration": 0.039901,
     "end_time": "2024-02-22T08:04:56.992626",
     "exception": false,
     "start_time": "2024-02-22T08:04:56.952725",
     "status": "completed"
    },
    "tags": []
   },
   "outputs": [],
   "source": [
    "# set the colors used for plotting\n",
    "plot_colors = \"ryb\"\n",
    "# define the resolution of the mesh grid\n",
    "plot_step = 0.02\n",
    "\n",
    "def decision_boundary(X, y, model):\n",
    "    # calculate the minimum and maximum values for the features and add a margin\n",
    "    x_min, x_max = X[:, 0].min() - 1, X[:, 0].max() + 1\n",
    "    y_min, y_max = X[:, 1].min() - 1, X[:, 1].max() + 1\n",
    "    \n",
    "    # create a mesh grid for the range of x and y values\n",
    "    xx, yy = np.meshgrid(np.arange(x_min, x_max, plot_step),\n",
    "                         np.arange(y_min, y_max, plot_step))\n",
    "    \n",
    "    # predict the model output for each point on the grid\n",
    "    # concatenation along the second axis\n",
    "    Z = model.predict(np.c_[xx.ravel(), yy.ravel()])\n",
    "    Z = Z.reshape(xx.shape)\n",
    "    \n",
    "    # create a contour plot using the predictions\n",
    "    plt.figure(figsize=(8, 6))\n",
    "    plt.contourf(xx, yy, Z, cmap=plt.cm.RdYlBu)\n",
    "\n",
    "    # plot the training points\n",
    "    for i, color in zip(np.unique(y), plot_colors):\n",
    "        idx = np.where(y == i)\n",
    "        plt.scatter(X[idx, 0], X[idx, 1], c=color, label=iris.target_names[i],\n",
    "                    cmap=plt.cm.RdYlBu, edgecolor='black', s=15)\n",
    "\n",
    "    plt.suptitle(\"Decision surface of a model\")\n",
    "    plt.legend(loc='lower right', borderpad=0, handletextpad=0)\n",
    "    plt.axis(\"tight\")\n",
    "    \n",
    "    # add axis labels (assuming iris dataset here)\n",
    "    plt.xlabel(iris.feature_names[0])\n",
    "    plt.ylabel(iris.feature_names[1])\n",
    "    \n",
    "    # show the plot\n",
    "    plt.show()"
   ]
  },
  {
   "cell_type": "markdown",
   "id": "833f3993",
   "metadata": {
    "papermill": {
     "duration": 0.0221,
     "end_time": "2024-02-22T08:04:57.037317",
     "exception": false,
     "start_time": "2024-02-22T08:04:57.015217",
     "status": "completed"
    },
    "tags": []
   },
   "source": [
    "This function will plot the probability of belonging to each class; each column is the probability of belonging to a class and the row number is the sample number.\n"
   ]
  },
  {
   "cell_type": "code",
   "execution_count": 3,
   "id": "8d91de31",
   "metadata": {
    "execution": {
     "iopub.execute_input": "2024-02-22T08:04:57.084736Z",
     "iopub.status.busy": "2024-02-22T08:04:57.083737Z",
     "iopub.status.idle": "2024-02-22T08:04:57.091741Z",
     "shell.execute_reply": "2024-02-22T08:04:57.090862Z"
    },
    "papermill": {
     "duration": 0.034055,
     "end_time": "2024-02-22T08:04:57.093978",
     "exception": false,
     "start_time": "2024-02-22T08:04:57.059923",
     "status": "completed"
    },
    "tags": []
   },
   "outputs": [],
   "source": [
    "def plot_probability_array(X, probability_array):\n",
    "    # initialize plot_array with zeros; it has 3 blocks, each 10 columns wide\n",
    "    plot_array = np.zeros((X.shape[0], 3 * 10))\n",
    "    \n",
    "    # loop through each class and fill the plot_array\n",
    "    for class_idx in range(3):  # there are 3 classes\n",
    "        col_start = class_idx * 10  # start column for the current class block\n",
    "        col_end = col_start + 10    # end column for the current class block\n",
    "        \n",
    "        # fill the block with the repeated class probabilities\n",
    "        # when you index a 2D array, you typically get a 1D array back,\n",
    "        # np.newaxis is used to convert this 1D array back into a 2D array\n",
    "        plot_array[:, col_start:col_end] = np.tile(probability_array[:, class_idx, np.newaxis], (1, 10))\n",
    "    \n",
    "    # the probabilities can be visualized as a heatmap where each cell's\n",
    "    # color intensity represents the probability value\n",
    "    plt.imshow(plot_array, aspect='auto')\n",
    "    # remove x-tick\n",
    "    plt.xticks([])\n",
    "    plt.ylabel(\"Samples\")\n",
    "    plt.xlabel(\"Probability of 3 Classes\")\n",
    "    # a color bar is added to the side of the plot to indicate the scale of probabilities\n",
    "    plt.colorbar()\n",
    "    plt.show()"
   ]
  },
  {
   "cell_type": "markdown",
   "id": "fe73a930",
   "metadata": {
    "papermill": {
     "duration": 0.082564,
     "end_time": "2024-02-22T08:04:57.199111",
     "exception": false,
     "start_time": "2024-02-22T08:04:57.116547",
     "status": "completed"
    },
    "tags": []
   },
   "source": [
    "In ths lab we will use the  iris dataset,  it consists of three different types of irises’ (Setosa y=0, Versicolour y=1, and Virginica y=2), petal and sepal length, stored in a 150x4 numpy.ndarray.\n",
    "\n",
    "The rows being the samples and the columns: Sepal Length, Sepal Width, Petal Length and Petal Width.\n",
    "\n",
    "The following plot uses the second two features:\n"
   ]
  },
  {
   "cell_type": "code",
   "execution_count": 4,
   "id": "acc4d8d0",
   "metadata": {
    "execution": {
     "iopub.execute_input": "2024-02-22T08:04:57.249225Z",
     "iopub.status.busy": "2024-02-22T08:04:57.248555Z",
     "iopub.status.idle": "2024-02-22T08:04:57.267730Z",
     "shell.execute_reply": "2024-02-22T08:04:57.266198Z"
    },
    "papermill": {
     "duration": 0.047847,
     "end_time": "2024-02-22T08:04:57.270305",
     "exception": false,
     "start_time": "2024-02-22T08:04:57.222458",
     "status": "completed"
    },
    "tags": []
   },
   "outputs": [
    {
     "data": {
      "text/plain": [
       "array([0, 1, 2])"
      ]
     },
     "execution_count": 4,
     "metadata": {},
     "output_type": "execute_result"
    }
   ],
   "source": [
    "# creates a list 'pair' used as indices\n",
    "pair=[1, 3]\n",
    "# load the iris dataset\n",
    "iris = datasets.load_iris()\n",
    "# choose [1, 3] columns of X\n",
    "X = iris.data[:, pair]\n",
    "# assign target/label to y\n",
    "y = iris.target\n",
    "np.unique(y)"
   ]
  },
  {
   "cell_type": "code",
   "execution_count": 5,
   "id": "ed9806b4",
   "metadata": {
    "execution": {
     "iopub.execute_input": "2024-02-22T08:04:57.317485Z",
     "iopub.status.busy": "2024-02-22T08:04:57.317088Z",
     "iopub.status.idle": "2024-02-22T08:04:57.659299Z",
     "shell.execute_reply": "2024-02-22T08:04:57.658059Z"
    },
    "papermill": {
     "duration": 0.368643,
     "end_time": "2024-02-22T08:04:57.661882",
     "exception": false,
     "start_time": "2024-02-22T08:04:57.293239",
     "status": "completed"
    },
    "tags": []
   },
   "outputs": [
    {
     "data": {
      "text/plain": [
       "Text(0, 0.5, 'petal width')"
      ]
     },
     "execution_count": 5,
     "metadata": {},
     "output_type": "execute_result"
    },
    {
     "data": {
      "image/png": "[encoded data removed]",
      "text/plain": [
       "<Figure size 640x480 with 1 Axes>"
      ]
     },
     "metadata": {},
     "output_type": "display_data"
    }
   ],
   "source": [
    "# 0 column represents sepal width and 1 column represents petal width\n",
    "# the points are colored based on each sample label\n",
    "plt.scatter(X[:, 0], X[:, 1], c=y, cmap=plt.cm.RdYlBu)\n",
    "plt.xlabel(\"sepal width (cm)\")\n",
    "plt.ylabel(\"petal width\")"
   ]
  },
  {
   "cell_type": "markdown",
   "id": "8e67733a",
   "metadata": {
    "papermill": {
     "duration": 0.023484,
     "end_time": "2024-02-22T08:04:57.709139",
     "exception": false,
     "start_time": "2024-02-22T08:04:57.685655",
     "status": "completed"
    },
    "tags": []
   },
   "source": [
    "## **Softmax Regression**  \n"
   ]
  },
  {
   "cell_type": "markdown",
   "id": "3b226170",
   "metadata": {
    "papermill": {
     "duration": 0.023397,
     "end_time": "2024-02-22T08:04:57.756161",
     "exception": false,
     "start_time": "2024-02-22T08:04:57.732764",
     "status": "completed"
    },
    "tags": []
   },
   "source": [
    "SoftMax regression is similar to logistic regression, and the softmax function converts the actual distances, that is, dot products of $x$ with each of the parameters $\\theta_i$ for the $K$ classes. This is converted to probabilities using the following: \n"
   ]
  },
  {
   "cell_type": "markdown",
   "id": "d04e66c1",
   "metadata": {
    "papermill": {
     "duration": 0.02343,
     "end_time": "2024-02-22T08:04:57.803292",
     "exception": false,
     "start_time": "2024-02-22T08:04:57.779862",
     "status": "completed"
    },
    "tags": []
   },
   "source": [
    "$softmax(x,i) = \\frac{e^{ \\theta_i^T \\bf x}}{\\sum_{j=1}^K e^{\\theta_j^T x}} $\n"
   ]
  },
  {
   "cell_type": "markdown",
   "id": "ec1bad45",
   "metadata": {
    "papermill": {
     "duration": 0.023419,
     "end_time": "2024-02-22T08:04:57.850425",
     "exception": false,
     "start_time": "2024-02-22T08:04:57.827006",
     "status": "completed"
    },
    "tags": []
   },
   "source": [
    "The training procedure is almost identical to logistic regression. Consider the three-class example where $y \\in \\{0,1,2\\}$ we would like to classify $x_1$. We can use the softmax function to generate a probability of how likely the sample belongs to each class:\n"
   ]
  },
  {
   "cell_type": "markdown",
   "id": "1df27fb7",
   "metadata": {
    "papermill": {
     "duration": 0.023334,
     "end_time": "2024-02-22T08:04:57.897439",
     "exception": false,
     "start_time": "2024-02-22T08:04:57.874105",
     "status": "completed"
    },
    "tags": []
   },
   "source": [
    "$[softmax(x_1,0),softmax(x_1,1),softmax(x_1,2)]=[0.97,0.2,0.1]$\n"
   ]
  },
  {
   "cell_type": "markdown",
   "id": "09f73831",
   "metadata": {
    "papermill": {
     "duration": 0.023031,
     "end_time": "2024-02-22T08:04:57.944650",
     "exception": false,
     "start_time": "2024-02-22T08:04:57.921619",
     "status": "completed"
    },
    "tags": []
   },
   "source": [
    "The index of each probability is the same as the class. We can make a prediction using the argmax function:\n"
   ]
  },
  {
   "cell_type": "markdown",
   "id": "72ff6f84",
   "metadata": {
    "papermill": {
     "duration": 0.023518,
     "end_time": "2024-02-22T08:04:57.991970",
     "exception": false,
     "start_time": "2024-02-22T08:04:57.968452",
     "status": "completed"
    },
    "tags": []
   },
   "source": [
    "$\\hat{y}=argmax_i  \\{softmax(x,i)\\}$\n"
   ]
  },
  {
   "cell_type": "markdown",
   "id": "baaa01d9",
   "metadata": {
    "papermill": {
     "duration": 0.023494,
     "end_time": "2024-02-22T08:04:58.039249",
     "exception": false,
     "start_time": "2024-02-22T08:04:58.015755",
     "status": "completed"
    },
    "tags": []
   },
   "source": [
    "For the previous example, we can make a prediction as follows:\n"
   ]
  },
  {
   "cell_type": "markdown",
   "id": "ff2e562c",
   "metadata": {
    "papermill": {
     "duration": 0.023484,
     "end_time": "2024-02-22T08:04:58.086515",
     "exception": false,
     "start_time": "2024-02-22T08:04:58.063031",
     "status": "completed"
    },
    "tags": []
   },
   "source": [
    "$\\hat{y}=argmax_i  \\{[0.97,0.2,0.1]\\}=0$\n"
   ]
  },
  {
   "cell_type": "markdown",
   "id": "c0967646",
   "metadata": {
    "papermill": {
     "duration": 0.02461,
     "end_time": "2024-02-22T08:04:58.134831",
     "exception": false,
     "start_time": "2024-02-22T08:04:58.110221",
     "status": "completed"
    },
    "tags": []
   },
   "source": [
    "The <code>sklearn</code> does this automatically, but we can verify the prediction step, as we fit the model:\n"
   ]
  },
  {
   "cell_type": "code",
   "execution_count": 6,
   "id": "137d742b",
   "metadata": {
    "execution": {
     "iopub.execute_input": "2024-02-22T08:04:58.184890Z",
     "iopub.status.busy": "2024-02-22T08:04:58.184458Z",
     "iopub.status.idle": "2024-02-22T08:04:58.206451Z",
     "shell.execute_reply": "2024-02-22T08:04:58.205253Z"
    },
    "papermill": {
     "duration": 0.050393,
     "end_time": "2024-02-22T08:04:58.208948",
     "exception": false,
     "start_time": "2024-02-22T08:04:58.158555",
     "status": "completed"
    },
    "tags": []
   },
   "outputs": [],
   "source": [
    "lr = LogisticRegression(random_state=42).fit(X, y)"
   ]
  },
  {
   "cell_type": "markdown",
   "id": "ad51fe2f",
   "metadata": {
    "papermill": {
     "duration": 0.023541,
     "end_time": "2024-02-22T08:04:58.258112",
     "exception": false,
     "start_time": "2024-02-22T08:04:58.234571",
     "status": "completed"
    },
    "tags": []
   },
   "source": [
    "We generate the probability using the method <ocde>predict_proba</code>:\n"
   ]
  },
  {
   "cell_type": "code",
   "execution_count": 7,
   "id": "e06d13e9",
   "metadata": {
    "execution": {
     "iopub.execute_input": "2024-02-22T08:04:58.307925Z",
     "iopub.status.busy": "2024-02-22T08:04:58.307167Z",
     "iopub.status.idle": "2024-02-22T08:04:58.311883Z",
     "shell.execute_reply": "2024-02-22T08:04:58.311023Z"
    },
    "papermill": {
     "duration": 0.031971,
     "end_time": "2024-02-22T08:04:58.313931",
     "exception": false,
     "start_time": "2024-02-22T08:04:58.281960",
     "status": "completed"
    },
    "tags": []
   },
   "outputs": [],
   "source": [
    "probability=lr.predict_proba(X)"
   ]
  },
  {
   "cell_type": "markdown",
   "id": "fb5e0832",
   "metadata": {
    "papermill": {
     "duration": 0.023411,
     "end_time": "2024-02-22T08:04:58.361227",
     "exception": false,
     "start_time": "2024-02-22T08:04:58.337816",
     "status": "completed"
    },
    "tags": []
   },
   "source": [
    "We can plot the probability of belonging to each class; each column is the probability of belonging to a class and the row number is the sample number.\n"
   ]
  },
  {
   "cell_type": "code",
   "execution_count": 8,
   "id": "19a08dd6",
   "metadata": {
    "execution": {
     "iopub.execute_input": "2024-02-22T08:04:58.410962Z",
     "iopub.status.busy": "2024-02-22T08:04:58.410149Z",
     "iopub.status.idle": "2024-02-22T08:04:58.673537Z",
     "shell.execute_reply": "2024-02-22T08:04:58.672160Z"
    },
    "papermill": {
     "duration": 0.29105,
     "end_time": "2024-02-22T08:04:58.675954",
     "exception": false,
     "start_time": "2024-02-22T08:04:58.384904",
     "status": "completed"
    },
    "tags": []
   },
   "outputs": [
    {
     "data": {
      "image/png": "[encoded data removed]",
      "text/plain": [
       "<Figure size 640x480 with 2 Axes>"
      ]
     },
     "metadata": {},
     "output_type": "display_data"
    }
   ],
   "source": [
    "plot_probability_array(X,probability)"
   ]
  },
  {
   "cell_type": "markdown",
   "id": "6220cacc",
   "metadata": {
    "papermill": {
     "duration": 0.024022,
     "end_time": "2024-02-22T08:04:58.724388",
     "exception": false,
     "start_time": "2024-02-22T08:04:58.700366",
     "status": "completed"
    },
    "tags": []
   },
   "source": [
    "Here, is the output for the first sample:\n"
   ]
  },
  {
   "cell_type": "code",
   "execution_count": 9,
   "id": "9eb1ec79",
   "metadata": {
    "execution": {
     "iopub.execute_input": "2024-02-22T08:04:58.776430Z",
     "iopub.status.busy": "2024-02-22T08:04:58.775741Z",
     "iopub.status.idle": "2024-02-22T08:04:58.783365Z",
     "shell.execute_reply": "2024-02-22T08:04:58.782087Z"
    },
    "papermill": {
     "duration": 0.036149,
     "end_time": "2024-02-22T08:04:58.785704",
     "exception": false,
     "start_time": "2024-02-22T08:04:58.749555",
     "status": "completed"
    },
    "tags": []
   },
   "outputs": [
    {
     "data": {
      "text/plain": [
       "array([9.57671606e-01, 4.22321095e-02, 9.62845517e-05])"
      ]
     },
     "execution_count": 9,
     "metadata": {},
     "output_type": "execute_result"
    }
   ],
   "source": [
    "probability[0,:]"
   ]
  },
  {
   "cell_type": "markdown",
   "id": "e5caf4c5",
   "metadata": {
    "papermill": {
     "duration": 0.024507,
     "end_time": "2024-02-22T08:04:58.835912",
     "exception": false,
     "start_time": "2024-02-22T08:04:58.811405",
     "status": "completed"
    },
    "tags": []
   },
   "source": [
    "We see it sums to one.\n"
   ]
  },
  {
   "cell_type": "code",
   "execution_count": 10,
   "id": "11b24476",
   "metadata": {
    "execution": {
     "iopub.execute_input": "2024-02-22T08:04:58.887442Z",
     "iopub.status.busy": "2024-02-22T08:04:58.886527Z",
     "iopub.status.idle": "2024-02-22T08:04:58.893088Z",
     "shell.execute_reply": "2024-02-22T08:04:58.891928Z"
    },
    "papermill": {
     "duration": 0.034821,
     "end_time": "2024-02-22T08:04:58.895260",
     "exception": false,
     "start_time": "2024-02-22T08:04:58.860439",
     "status": "completed"
    },
    "tags": []
   },
   "outputs": [
    {
     "data": {
      "text/plain": [
       "1.0"
      ]
     },
     "execution_count": 10,
     "metadata": {},
     "output_type": "execute_result"
    }
   ],
   "source": [
    "probability[0,:].sum()"
   ]
  },
  {
   "cell_type": "markdown",
   "id": "753cf261",
   "metadata": {
    "papermill": {
     "duration": 0.025791,
     "end_time": "2024-02-22T08:04:58.945945",
     "exception": false,
     "start_time": "2024-02-22T08:04:58.920154",
     "status": "completed"
    },
    "tags": []
   },
   "source": [
    "We can apply the $argmax$ function.\n"
   ]
  },
  {
   "cell_type": "code",
   "execution_count": 11,
   "id": "ce634889",
   "metadata": {
    "execution": {
     "iopub.execute_input": "2024-02-22T08:04:58.997774Z",
     "iopub.status.busy": "2024-02-22T08:04:58.997319Z",
     "iopub.status.idle": "2024-02-22T08:04:59.003641Z",
     "shell.execute_reply": "2024-02-22T08:04:59.002803Z"
    },
    "papermill": {
     "duration": 0.03486,
     "end_time": "2024-02-22T08:04:59.005752",
     "exception": false,
     "start_time": "2024-02-22T08:04:58.970892",
     "status": "completed"
    },
    "tags": []
   },
   "outputs": [
    {
     "data": {
      "text/plain": [
       "0"
      ]
     },
     "execution_count": 11,
     "metadata": {},
     "output_type": "execute_result"
    }
   ],
   "source": [
    "np.argmax(probability[0,:])"
   ]
  },
  {
   "cell_type": "markdown",
   "id": "1ee062ac",
   "metadata": {
    "papermill": {
     "duration": 0.02495,
     "end_time": "2024-02-22T08:04:59.056890",
     "exception": false,
     "start_time": "2024-02-22T08:04:59.031940",
     "status": "completed"
    },
    "tags": []
   },
   "source": [
    "We can apply the $argmax$ function to each sample.\n"
   ]
  },
  {
   "cell_type": "code",
   "execution_count": 12,
   "id": "f5d90b92",
   "metadata": {
    "execution": {
     "iopub.execute_input": "2024-02-22T08:04:59.109311Z",
     "iopub.status.busy": "2024-02-22T08:04:59.108898Z",
     "iopub.status.idle": "2024-02-22T08:04:59.116192Z",
     "shell.execute_reply": "2024-02-22T08:04:59.115146Z"
    },
    "papermill": {
     "duration": 0.035963,
     "end_time": "2024-02-22T08:04:59.118427",
     "exception": false,
     "start_time": "2024-02-22T08:04:59.082464",
     "status": "completed"
    },
    "tags": []
   },
   "outputs": [
    {
     "data": {
      "text/plain": [
       "array([0, 0, 0, 0, 0, 0, 0, 0, 0, 0, 0, 0, 0, 0, 0, 0, 0, 0, 0, 0, 0, 0,\n",
       "       0, 0, 0, 0, 0, 0, 0, 0, 0, 0, 0, 0, 0, 0, 0, 0, 0, 0, 0, 0, 0, 0,\n",
       "       0, 0, 0, 0, 0, 0, 1, 1, 1, 1, 1, 1, 1, 1, 1, 1, 1, 1, 1, 1, 1, 1,\n",
       "       1, 1, 1, 1, 2, 1, 1, 1, 1, 1, 1, 2, 1, 1, 1, 1, 1, 1, 1, 1, 1, 1,\n",
       "       1, 1, 1, 1, 1, 1, 1, 1, 1, 1, 1, 1, 2, 2, 2, 2, 2, 2, 2, 2, 2, 2,\n",
       "       2, 2, 2, 2, 2, 2, 2, 2, 2, 1, 2, 2, 2, 2, 2, 2, 2, 2, 2, 1, 2, 2,\n",
       "       2, 1, 1, 2, 2, 2, 2, 2, 2, 2, 2, 2, 2, 2, 2, 2, 2, 2])"
      ]
     },
     "execution_count": 12,
     "metadata": {},
     "output_type": "execute_result"
    }
   ],
   "source": [
    "# for each sample(raw), find the column(class) that has the highest probability\n",
    "softmax_prediction=np.argmax(probability,axis=1)\n",
    "softmax_prediction"
   ]
  },
  {
   "cell_type": "markdown",
   "id": "29c8cba5",
   "metadata": {
    "papermill": {
     "duration": 0.024716,
     "end_time": "2024-02-22T08:04:59.168543",
     "exception": false,
     "start_time": "2024-02-22T08:04:59.143827",
     "status": "completed"
    },
    "tags": []
   },
   "source": [
    "We can verify that sklearn does this under the hood by comparing it to the output of the method <code> predict  </code>.\n"
   ]
  },
  {
   "cell_type": "code",
   "execution_count": 13,
   "id": "77ed93bf",
   "metadata": {
    "execution": {
     "iopub.execute_input": "2024-02-22T08:04:59.233992Z",
     "iopub.status.busy": "2024-02-22T08:04:59.231534Z",
     "iopub.status.idle": "2024-02-22T08:04:59.241182Z",
     "shell.execute_reply": "2024-02-22T08:04:59.240365Z"
    },
    "papermill": {
     "duration": 0.048412,
     "end_time": "2024-02-22T08:04:59.243397",
     "exception": false,
     "start_time": "2024-02-22T08:04:59.194985",
     "status": "completed"
    },
    "tags": []
   },
   "outputs": [
    {
     "data": {
      "text/plain": [
       "1.0"
      ]
     },
     "execution_count": 13,
     "metadata": {},
     "output_type": "execute_result"
    }
   ],
   "source": [
    "yhat =lr.predict(X)\n",
    "accuracy_score(yhat,softmax_prediction)"
   ]
  },
  {
   "cell_type": "markdown",
   "id": "27349e89",
   "metadata": {
    "papermill": {
     "duration": 0.025153,
     "end_time": "2024-02-22T08:04:59.298035",
     "exception": false,
     "start_time": "2024-02-22T08:04:59.272882",
     "status": "completed"
    },
    "tags": []
   },
   "source": [
    "We can't use Softmax regression for SVMs, Let's explore two methods of Multi-class Classification that we can apply to SVM.\n"
   ]
  },
  {
   "cell_type": "markdown",
   "id": "266060cc",
   "metadata": {
    "papermill": {
     "duration": 0.028875,
     "end_time": "2024-02-22T08:04:59.352220",
     "exception": false,
     "start_time": "2024-02-22T08:04:59.323345",
     "status": "completed"
    },
    "tags": []
   },
   "source": [
    "## SVM \n"
   ]
  },
  {
   "cell_type": "markdown",
   "id": "7e77fc83",
   "metadata": {
    "papermill": {
     "duration": 0.029205,
     "end_time": "2024-02-22T08:04:59.412744",
     "exception": false,
     "start_time": "2024-02-22T08:04:59.383539",
     "status": "completed"
    },
    "tags": []
   },
   "source": [
    "Sklean performs Multi-class Classification automatically, we can apply the method and calculate the accuracy. Train a SVM classifier with the `kernel` set to `linear`, `gamma` set to `0.5`, and the `probability` paramter set to `True`, then train the model using the `X` and `y` data.\n"
   ]
  },
  {
   "cell_type": "code",
   "execution_count": 14,
   "id": "faecc162",
   "metadata": {
    "execution": {
     "iopub.execute_input": "2024-02-22T08:04:59.472610Z",
     "iopub.status.busy": "2024-02-22T08:04:59.471627Z",
     "iopub.status.idle": "2024-02-22T08:04:59.484888Z",
     "shell.execute_reply": "2024-02-22T08:04:59.483978Z"
    },
    "papermill": {
     "duration": 0.04408,
     "end_time": "2024-02-22T08:04:59.487408",
     "exception": false,
     "start_time": "2024-02-22T08:04:59.443328",
     "status": "completed"
    },
    "tags": []
   },
   "outputs": [
    {
     "data": {
      "text/html": [
       "<style>#sk-container-id-1 {color: black;background-color: white;}#sk-container-id-1 pre{padding: 0;}#sk-container-id-1 div.sk-toggleable {background-color: white;}#sk-container-id-1 label.sk-toggleable__label {cursor: pointer;display: block;width: 100%;margin-bottom: 0;padding: 0.3em;box-sizing: border-box;text-align: center;}#sk-container-id-1 label.sk-toggleable__label-arrow:before {content: \"▸\";float: left;margin-right: 0.25em;color: #696969;}#sk-container-id-1 label.sk-toggleable__label-arrow:hover:before {color: black;}#sk-container-id-1 div.sk-estimator:hover label.sk-toggleable__label-arrow:before {color: black;}#sk-container-id-1 div.sk-toggleable__content {max-height: 0;max-width: 0;overflow: hidden;text-align: left;background-color: #f0f8ff;}#sk-container-id-1 div.sk-toggleable__content pre {margin: 0.2em;color: black;border-radius: 0.25em;background-color: #f0f8ff;}#sk-container-id-1 input.sk-toggleable__control:checked~div.sk-toggleable__content {max-height: 200px;max-width: 100%;overflow: auto;}#sk-container-id-1 input.sk-toggleable__control:checked~label.sk-toggleable__label-arrow:before {content: \"▾\";}#sk-container-id-1 div.sk-estimator input.sk-toggleable__control:checked~label.sk-toggleable__label {background-color: #d4ebff;}#sk-container-id-1 div.sk-label input.sk-toggleable__control:checked~label.sk-toggleable__label {background-color: #d4ebff;}#sk-container-id-1 input.sk-hidden--visually {border: 0;clip: rect(1px 1px 1px 1px);clip: rect(1px, 1px, 1px, 1px);height: 1px;margin: -1px;overflow: hidden;padding: 0;position: absolute;width: 1px;}#sk-container-id-1 div.sk-estimator {font-family: monospace;background-color: #f0f8ff;border: 1px dotted black;border-radius: 0.25em;box-sizing: border-box;margin-bottom: 0.5em;}#sk-container-id-1 div.sk-estimator:hover {background-color: #d4ebff;}#sk-container-id-1 div.sk-parallel-item::after {content: \"\";width: 100%;border-bottom: 1px solid gray;flex-grow: 1;}#sk-container-id-1 div.sk-label:hover label.sk-toggleable__label {background-color: #d4ebff;}#sk-container-id-1 div.sk-serial::before {content: \"\";position: absolute;border-left: 1px solid gray;box-sizing: border-box;top: 0;bottom: 0;left: 50%;z-index: 0;}#sk-container-id-1 div.sk-serial {display: flex;flex-direction: column;align-items: center;background-color: white;padding-right: 0.2em;padding-left: 0.2em;position: relative;}#sk-container-id-1 div.sk-item {position: relative;z-index: 1;}#sk-container-id-1 div.sk-parallel {display: flex;align-items: stretch;justify-content: center;background-color: white;position: relative;}#sk-container-id-1 div.sk-item::before, #sk-container-id-1 div.sk-parallel-item::before {content: \"\";position: absolute;border-left: 1px solid gray;box-sizing: border-box;top: 0;bottom: 0;left: 50%;z-index: -1;}#sk-container-id-1 div.sk-parallel-item {display: flex;flex-direction: column;z-index: 1;position: relative;background-color: white;}#sk-container-id-1 div.sk-parallel-item:first-child::after {align-self: flex-end;width: 50%;}#sk-container-id-1 div.sk-parallel-item:last-child::after {align-self: flex-start;width: 50%;}#sk-container-id-1 div.sk-parallel-item:only-child::after {width: 0;}#sk-container-id-1 div.sk-dashed-wrapped {border: 1px dashed gray;margin: 0 0.4em 0.5em 0.4em;box-sizing: border-box;padding-bottom: 0.4em;background-color: white;}#sk-container-id-1 div.sk-label label {font-family: monospace;font-weight: bold;display: inline-block;line-height: 1.2em;}#sk-container-id-1 div.sk-label-container {text-align: center;}#sk-container-id-1 div.sk-container {/* jupyter's `normalize.less` sets `[hidden] { display: none; }` but bootstrap.min.css set `[hidden] { display: none !important; }` so we also need the `!important` here to be able to override the default hidden behavior on the sphinx rendered scikit-learn.org. See: https://github.com/scikit-learn/scikit-learn/issues/21755 */display: inline-block !important;position: relative;}#sk-container-id-1 div.sk-text-repr-fallback {display: none;}</style><div id=\"sk-container-id-1\" class=\"sk-top-container\"><div class=\"sk-text-repr-fallback\"><pre>SVC(gamma=0.5, kernel=&#x27;linear&#x27;, probability=True)</pre><b>In a Jupyter environment, please rerun this cell to show the HTML representation or trust the notebook. <br />On GitHub, the HTML representation is unable to render, please try loading this page with nbviewer.org.</b></div><div class=\"sk-container\" hidden><div class=\"sk-item\"><div class=\"sk-estimator sk-toggleable\"><input class=\"sk-toggleable__control sk-hidden--visually\" id=\"sk-estimator-id-1\" type=\"checkbox\" checked><label for=\"sk-estimator-id-1\" class=\"sk-toggleable__label sk-toggleable__label-arrow\">SVC</label><div class=\"sk-toggleable__content\"><pre>SVC(gamma=0.5, kernel=&#x27;linear&#x27;, probability=True)</pre></div></div></div></div></div>"
      ],
      "text/plain": [
       "SVC(gamma=0.5, kernel='linear', probability=True)"
      ]
     },
     "execution_count": 14,
     "metadata": {},
     "output_type": "execute_result"
    }
   ],
   "source": [
    "model = SVC(kernel='linear', gamma=.5, probability=True)\n",
    "\n",
    "model.fit(X,y)"
   ]
  },
  {
   "cell_type": "markdown",
   "id": "9a644d56",
   "metadata": {
    "papermill": {
     "duration": 0.025113,
     "end_time": "2024-02-22T08:04:59.541424",
     "exception": false,
     "start_time": "2024-02-22T08:04:59.516311",
     "status": "completed"
    },
    "tags": []
   },
   "source": [
    "Find the `accuracy_score` on the training data.\n"
   ]
  },
  {
   "cell_type": "code",
   "execution_count": 15,
   "id": "2bc22921",
   "metadata": {
    "execution": {
     "iopub.execute_input": "2024-02-22T08:04:59.594863Z",
     "iopub.status.busy": "2024-02-22T08:04:59.593731Z",
     "iopub.status.idle": "2024-02-22T08:04:59.601789Z",
     "shell.execute_reply": "2024-02-22T08:04:59.600628Z"
    },
    "papermill": {
     "duration": 0.037142,
     "end_time": "2024-02-22T08:04:59.604111",
     "exception": false,
     "start_time": "2024-02-22T08:04:59.566969",
     "status": "completed"
    },
    "tags": []
   },
   "outputs": [
    {
     "data": {
      "text/plain": [
       "0.96"
      ]
     },
     "execution_count": 15,
     "metadata": {},
     "output_type": "execute_result"
    }
   ],
   "source": [
    "yhat = model.predict(X)\n",
    "\n",
    "accuracy_score(y,yhat)"
   ]
  },
  {
   "cell_type": "markdown",
   "id": "b28c36dc",
   "metadata": {
    "papermill": {
     "duration": 0.034758,
     "end_time": "2024-02-22T08:04:59.665155",
     "exception": false,
     "start_time": "2024-02-22T08:04:59.630397",
     "status": "completed"
    },
    "tags": []
   },
   "source": [
    "We can plot the decision_boundary.\n"
   ]
  },
  {
   "cell_type": "code",
   "execution_count": 16,
   "id": "2d5af9e4",
   "metadata": {
    "execution": {
     "iopub.execute_input": "2024-02-22T08:04:59.720845Z",
     "iopub.status.busy": "2024-02-22T08:04:59.720431Z",
     "iopub.status.idle": "2024-02-22T08:05:00.129637Z",
     "shell.execute_reply": "2024-02-22T08:05:00.128416Z"
    },
    "papermill": {
     "duration": 0.438372,
     "end_time": "2024-02-22T08:05:00.132126",
     "exception": false,
     "start_time": "2024-02-22T08:04:59.693754",
     "status": "completed"
    },
    "tags": []
   },
   "outputs": [
    {
     "name": "stderr",
     "output_type": "stream",
     "text": [
      "/tmp/ipykernel_18/508858794.py:27: UserWarning: No data for colormapping provided via 'c'. Parameters 'cmap' will be ignored\n",
      "  plt.scatter(X[idx, 0], X[idx, 1], c=color, label=iris.target_names[i],\n"
     ]
    },
    {
     "data": {
      "image/png": "[encoded data removed]",
      "text/plain": [
       "<Figure size 800x600 with 1 Axes>"
      ]
     },
     "metadata": {},
     "output_type": "display_data"
    }
   ],
   "source": [
    "decision_boundary(X,y,model)"
   ]
  },
  {
   "cell_type": "markdown",
   "id": "e0d2386f",
   "metadata": {
    "papermill": {
     "duration": 0.025908,
     "end_time": "2024-02-22T08:05:00.184272",
     "exception": false,
     "start_time": "2024-02-22T08:05:00.158364",
     "status": "completed"
    },
    "tags": []
   },
   "source": [
    "Let's implement One vs. All and One vs One:\n"
   ]
  },
  {
   "cell_type": "markdown",
   "id": "9bce4052",
   "metadata": {
    "papermill": {
     "duration": 0.027448,
     "end_time": "2024-02-22T08:05:00.237910",
     "exception": false,
     "start_time": "2024-02-22T08:05:00.210462",
     "status": "completed"
    },
    "tags": []
   },
   "source": [
    "## One vs. All (One-vs-Rest) \n"
   ]
  },
  {
   "cell_type": "markdown",
   "id": "9f85e088",
   "metadata": {
    "papermill": {
     "duration": 0.025699,
     "end_time": "2024-02-22T08:05:00.290419",
     "exception": false,
     "start_time": "2024-02-22T08:05:00.264720",
     "status": "completed"
    },
    "tags": []
   },
   "source": [
    "For one-vs-all classification, if we have K classes, we use K two-class classifier models. The number of class labels present in the dataset is equal to the number of generated classifiers. First, we create an artificial class we will call this \"dummy\" class. For each classifier, we split the data into two classes. We take the class samples we would like to classify, the rest of the samples will be labelled as a dummy class. We repeat the process for each class. To make a  classification, we use the classifier with the highest probability, disregarding the dummy class.\n"
   ]
  },
  {
   "cell_type": "markdown",
   "id": "7a9c92e1",
   "metadata": {
    "papermill": {
     "duration": 0.026127,
     "end_time": "2024-02-22T08:05:00.343318",
     "exception": false,
     "start_time": "2024-02-22T08:05:00.317191",
     "status": "completed"
    },
    "tags": []
   },
   "source": [
    "### Train Each Classifier\n"
   ]
  },
  {
   "cell_type": "markdown",
   "id": "e69a0ce9",
   "metadata": {
    "papermill": {
     "duration": 0.026115,
     "end_time": "2024-02-22T08:05:00.395659",
     "exception": false,
     "start_time": "2024-02-22T08:05:00.369544",
     "status": "completed"
    },
    "tags": []
   },
   "source": [
    "Here, we train three classifiers and place them in the list <code>my_models</code>. For each class we take the class samples we would like to classify, and the rest will be labelled as a dummy class. We repeat the process for each class. For each classifier, we plot the decision regions. The class we are interested in is in red, and the dummy class is in blue. Similarly, the class samples are marked in blue, and the dummy samples are marked with a black x. \n"
   ]
  },
  {
   "cell_type": "code",
   "execution_count": 17,
   "id": "1ca59e32",
   "metadata": {
    "execution": {
     "iopub.execute_input": "2024-02-22T08:05:00.450649Z",
     "iopub.status.busy": "2024-02-22T08:05:00.450032Z",
     "iopub.status.idle": "2024-02-22T08:05:01.479091Z",
     "shell.execute_reply": "2024-02-22T08:05:01.477845Z"
    },
    "papermill": {
     "duration": 1.059223,
     "end_time": "2024-02-22T08:05:01.481504",
     "exception": false,
     "start_time": "2024-02-22T08:05:00.422281",
     "status": "completed"
    },
    "tags": []
   },
   "outputs": [
    {
     "name": "stderr",
     "output_type": "stream",
     "text": [
      "/tmp/ipykernel_18/508858794.py:27: UserWarning: No data for colormapping provided via 'c'. Parameters 'cmap' will be ignored\n",
      "  plt.scatter(X[idx, 0], X[idx, 1], c=color, label=iris.target_names[i],\n"
     ]
    },
    {
     "data": {
      "image/png": "[encoded data removed]",
      "text/plain": [
       "<Figure size 800x600 with 1 Axes>"
      ]
     },
     "metadata": {},
     "output_type": "display_data"
    },
    {
     "name": "stderr",
     "output_type": "stream",
     "text": [
      "/tmp/ipykernel_18/508858794.py:27: UserWarning: No data for colormapping provided via 'c'. Parameters 'cmap' will be ignored\n",
      "  plt.scatter(X[idx, 0], X[idx, 1], c=color, label=iris.target_names[i],\n"
     ]
    },
    {
     "data": {
      "image/png": "[encoded data removed]",
      "text/plain": [
       "<Figure size 800x600 with 1 Axes>"
      ]
     },
     "metadata": {},
     "output_type": "display_data"
    },
    {
     "name": "stderr",
     "output_type": "stream",
     "text": [
      "/tmp/ipykernel_18/508858794.py:27: UserWarning: No data for colormapping provided via 'c'. Parameters 'cmap' will be ignored\n",
      "  plt.scatter(X[idx, 0], X[idx, 1], c=color, label=iris.target_names[i],\n"
     ]
    },
    {
     "data": {
      "image/png": "[encoded data removed]",
      "text/plain": [
       "<Figure size 800x600 with 1 Axes>"
      ]
     },
     "metadata": {},
     "output_type": "display_data"
    }
   ],
   "source": [
    "# initialize list to store classifiers\n",
    "my_models = []\n",
    "\n",
    "# iterate through each unique class label in y\n",
    "for class_ in np.unique(y):\n",
    "    # create binary labels: 1 for the current class, 0 for all other classes\n",
    "    temp_y = (y == class_).astype(int)\n",
    "    \n",
    "    # initialize the SVM model with a linear kernel\n",
    "    model = SVC(kernel='linear', probability=True)\n",
    "    \n",
    "    # train the model on the data\n",
    "    model.fit(X, temp_y)\n",
    "    \n",
    "    # add the trained model to the list of classifiers\n",
    "    my_models.append(model)\n",
    "    \n",
    "    decision_boundary(X, temp_y, model)"
   ]
  },
  {
   "cell_type": "markdown",
   "id": "a9a000a3",
   "metadata": {
    "papermill": {
     "duration": 0.028604,
     "end_time": "2024-02-22T08:05:01.539791",
     "exception": false,
     "start_time": "2024-02-22T08:05:01.511187",
     "status": "completed"
    },
    "tags": []
   },
   "source": [
    " For each sample we calculate the  probability of belonging to each class, not including the dummy class.\n"
   ]
  },
  {
   "cell_type": "code",
   "execution_count": 18,
   "id": "adb3ad1b",
   "metadata": {
    "execution": {
     "iopub.execute_input": "2024-02-22T08:05:01.599131Z",
     "iopub.status.busy": "2024-02-22T08:05:01.598677Z",
     "iopub.status.idle": "2024-02-22T08:05:01.606969Z",
     "shell.execute_reply": "2024-02-22T08:05:01.605871Z"
    },
    "papermill": {
     "duration": 0.040707,
     "end_time": "2024-02-22T08:05:01.609274",
     "exception": false,
     "start_time": "2024-02-22T08:05:01.568567",
     "status": "completed"
    },
    "tags": []
   },
   "outputs": [],
   "source": [
    "probability_array=np.zeros((X.shape[0],3))\n",
    "for j,model in enumerate(my_models):\n",
    "\n",
    "    real_class=np.where(np.array(model.classes_)!=3)[0]\n",
    "\n",
    "    probability_array[:,j]=model.predict_proba(X)[:,real_class][:,0]"
   ]
  },
  {
   "cell_type": "markdown",
   "id": "1acde049",
   "metadata": {
    "papermill": {
     "duration": 0.028399,
     "end_time": "2024-02-22T08:05:01.666398",
     "exception": false,
     "start_time": "2024-02-22T08:05:01.637999",
     "status": "completed"
    },
    "tags": []
   },
   "source": [
    "Here, is the probability of belonging to each class for the first sample.\n"
   ]
  },
  {
   "cell_type": "code",
   "execution_count": 19,
   "id": "11e04a1f",
   "metadata": {
    "execution": {
     "iopub.execute_input": "2024-02-22T08:05:01.726072Z",
     "iopub.status.busy": "2024-02-22T08:05:01.725689Z",
     "iopub.status.idle": "2024-02-22T08:05:01.731674Z",
     "shell.execute_reply": "2024-02-22T08:05:01.730868Z"
    },
    "papermill": {
     "duration": 0.038606,
     "end_time": "2024-02-22T08:05:01.733799",
     "exception": false,
     "start_time": "2024-02-22T08:05:01.695193",
     "status": "completed"
    },
    "tags": []
   },
   "outputs": [
    {
     "data": {
      "text/plain": [
       "array([0.00808158, 0.87451188, 0.99999783])"
      ]
     },
     "execution_count": 19,
     "metadata": {},
     "output_type": "execute_result"
    }
   ],
   "source": [
    "probability_array[0,:]"
   ]
  },
  {
   "cell_type": "markdown",
   "id": "7fafd9ff",
   "metadata": {
    "papermill": {
     "duration": 0.028385,
     "end_time": "2024-02-22T08:05:01.790831",
     "exception": false,
     "start_time": "2024-02-22T08:05:01.762446",
     "status": "completed"
    },
    "tags": []
   },
   "source": [
    "As each is the probability of belonging to the actual class and not the dummy class, it does not sum to one. \n"
   ]
  },
  {
   "cell_type": "code",
   "execution_count": 20,
   "id": "47eb88bd",
   "metadata": {
    "execution": {
     "iopub.execute_input": "2024-02-22T08:05:01.850180Z",
     "iopub.status.busy": "2024-02-22T08:05:01.849796Z",
     "iopub.status.idle": "2024-02-22T08:05:01.856966Z",
     "shell.execute_reply": "2024-02-22T08:05:01.855869Z"
    },
    "papermill": {
     "duration": 0.039411,
     "end_time": "2024-02-22T08:05:01.859017",
     "exception": false,
     "start_time": "2024-02-22T08:05:01.819606",
     "status": "completed"
    },
    "tags": []
   },
   "outputs": [
    {
     "data": {
      "text/plain": [
       "1.8825912902439967"
      ]
     },
     "execution_count": 20,
     "metadata": {},
     "output_type": "execute_result"
    }
   ],
   "source": [
    "probability_array[0,:].sum()"
   ]
  },
  {
   "cell_type": "markdown",
   "id": "08d4a228",
   "metadata": {
    "papermill": {
     "duration": 0.02859,
     "end_time": "2024-02-22T08:05:01.916428",
     "exception": false,
     "start_time": "2024-02-22T08:05:01.887838",
     "status": "completed"
    },
    "tags": []
   },
   "source": [
    "We can plot the probability of belonging to the class. The row number is the sample number.\n"
   ]
  },
  {
   "cell_type": "code",
   "execution_count": 21,
   "id": "187a9157",
   "metadata": {
    "execution": {
     "iopub.execute_input": "2024-02-22T08:05:01.977979Z",
     "iopub.status.busy": "2024-02-22T08:05:01.977603Z",
     "iopub.status.idle": "2024-02-22T08:05:02.229524Z",
     "shell.execute_reply": "2024-02-22T08:05:02.228320Z"
    },
    "papermill": {
     "duration": 0.285051,
     "end_time": "2024-02-22T08:05:02.232048",
     "exception": false,
     "start_time": "2024-02-22T08:05:01.946997",
     "status": "completed"
    },
    "tags": []
   },
   "outputs": [
    {
     "data": {
      "image/png": "[encoded data removed]",
      "text/plain": [
       "<Figure size 640x480 with 2 Axes>"
      ]
     },
     "metadata": {},
     "output_type": "display_data"
    }
   ],
   "source": [
    "plot_probability_array(X,probability_array)"
   ]
  },
  {
   "cell_type": "markdown",
   "id": "a863299c",
   "metadata": {
    "papermill": {
     "duration": 0.029631,
     "end_time": "2024-02-22T08:05:02.293544",
     "exception": false,
     "start_time": "2024-02-22T08:05:02.263913",
     "status": "completed"
    },
    "tags": []
   },
   "source": [
    "We can apply the $argmax$ function to each sample to find the class.\n"
   ]
  },
  {
   "cell_type": "code",
   "execution_count": 22,
   "id": "2d856c08",
   "metadata": {
    "execution": {
     "iopub.execute_input": "2024-02-22T08:05:02.355952Z",
     "iopub.status.busy": "2024-02-22T08:05:02.355546Z",
     "iopub.status.idle": "2024-02-22T08:05:02.363244Z",
     "shell.execute_reply": "2024-02-22T08:05:02.362160Z"
    },
    "papermill": {
     "duration": 0.041667,
     "end_time": "2024-02-22T08:05:02.365402",
     "exception": false,
     "start_time": "2024-02-22T08:05:02.323735",
     "status": "completed"
    },
    "tags": []
   },
   "outputs": [
    {
     "data": {
      "text/plain": [
       "array([2, 2, 2, 2, 2, 2, 2, 2, 2, 2, 2, 2, 2, 2, 2, 2, 2, 2, 2, 2, 2, 2,\n",
       "       2, 2, 2, 2, 2, 2, 2, 2, 2, 2, 2, 2, 2, 2, 2, 2, 2, 2, 2, 2, 2, 2,\n",
       "       2, 2, 2, 2, 2, 2, 0, 0, 0, 0, 0, 0, 0, 2, 0, 0, 2, 0, 2, 0, 0, 0,\n",
       "       0, 2, 0, 2, 0, 0, 0, 2, 0, 0, 0, 0, 0, 2, 2, 2, 2, 0, 0, 0, 0, 0,\n",
       "       2, 0, 0, 0, 0, 2, 0, 2, 0, 0, 2, 0, 0, 0, 0, 0, 0, 0, 0, 0, 0, 0,\n",
       "       0, 0, 0, 0, 0, 0, 0, 0, 0, 0, 0, 0, 0, 0, 0, 0, 0, 0, 0, 0, 0, 0,\n",
       "       0, 0, 0, 0, 0, 0, 0, 0, 0, 0, 0, 0, 0, 0, 0, 0, 0, 0])"
      ]
     },
     "execution_count": 22,
     "metadata": {},
     "output_type": "execute_result"
    }
   ],
   "source": [
    "one_vs_all=np.argmax(probability_array,axis=1)\n",
    "one_vs_all"
   ]
  },
  {
   "cell_type": "markdown",
   "id": "ae854432",
   "metadata": {
    "papermill": {
     "duration": 0.029917,
     "end_time": "2024-02-22T08:05:02.425393",
     "exception": false,
     "start_time": "2024-02-22T08:05:02.395476",
     "status": "completed"
    },
    "tags": []
   },
   "source": [
    "We can calculate the accuracy. \n"
   ]
  },
  {
   "cell_type": "code",
   "execution_count": 23,
   "id": "f85e9682",
   "metadata": {
    "execution": {
     "iopub.execute_input": "2024-02-22T08:05:02.487253Z",
     "iopub.status.busy": "2024-02-22T08:05:02.486665Z",
     "iopub.status.idle": "2024-02-22T08:05:02.492958Z",
     "shell.execute_reply": "2024-02-22T08:05:02.492011Z"
    },
    "papermill": {
     "duration": 0.040402,
     "end_time": "2024-02-22T08:05:02.495415",
     "exception": false,
     "start_time": "2024-02-22T08:05:02.455013",
     "status": "completed"
    },
    "tags": []
   },
   "outputs": [
    {
     "data": {
      "text/plain": [
       "0.0"
      ]
     },
     "execution_count": 23,
     "metadata": {},
     "output_type": "execute_result"
    }
   ],
   "source": [
    "accuracy_score(y,one_vs_all)"
   ]
  },
  {
   "cell_type": "markdown",
   "id": "d84595b2",
   "metadata": {
    "papermill": {
     "duration": 0.030324,
     "end_time": "2024-02-22T08:05:02.556370",
     "exception": false,
     "start_time": "2024-02-22T08:05:02.526046",
     "status": "completed"
    },
    "tags": []
   },
   "source": [
    "We see the accuracy is less than the one obtained by sklearn, and this is because for SVM, sklearn uses one vs one; let's verify it by comparing the outputs. \n"
   ]
  },
  {
   "cell_type": "code",
   "execution_count": 24,
   "id": "32958a6d",
   "metadata": {
    "execution": {
     "iopub.execute_input": "2024-02-22T08:05:02.618353Z",
     "iopub.status.busy": "2024-02-22T08:05:02.617742Z",
     "iopub.status.idle": "2024-02-22T08:05:02.624029Z",
     "shell.execute_reply": "2024-02-22T08:05:02.623099Z"
    },
    "papermill": {
     "duration": 0.039731,
     "end_time": "2024-02-22T08:05:02.626107",
     "exception": false,
     "start_time": "2024-02-22T08:05:02.586376",
     "status": "completed"
    },
    "tags": []
   },
   "outputs": [
    {
     "data": {
      "text/plain": [
       "0.0"
      ]
     },
     "execution_count": 24,
     "metadata": {},
     "output_type": "execute_result"
    }
   ],
   "source": [
    "accuracy_score(one_vs_all,yhat)"
   ]
  },
  {
   "cell_type": "markdown",
   "id": "1c6c5786",
   "metadata": {
    "papermill": {
     "duration": 0.030253,
     "end_time": "2024-02-22T08:05:02.687326",
     "exception": false,
     "start_time": "2024-02-22T08:05:02.657073",
     "status": "completed"
    },
    "tags": []
   },
   "source": [
    "We see that the outputs are different, now lets implement one vs one.\n"
   ]
  },
  {
   "cell_type": "markdown",
   "id": "ca097e62",
   "metadata": {
    "papermill": {
     "duration": 0.030207,
     "end_time": "2024-02-22T08:05:02.748014",
     "exception": false,
     "start_time": "2024-02-22T08:05:02.717807",
     "status": "completed"
    },
    "tags": []
   },
   "source": [
    "## One vs One \n"
   ]
  },
  {
   "cell_type": "markdown",
   "id": "cb1e1ccb",
   "metadata": {
    "papermill": {
     "duration": 0.030216,
     "end_time": "2024-02-22T08:05:02.808743",
     "exception": false,
     "start_time": "2024-02-22T08:05:02.778527",
     "status": "completed"
    },
    "tags": []
   },
   "source": [
    "\n",
    "In One-vs-One classification, we split up the data into each class, and then train a two-class classifier on each pair of classes. For example, if we have class 0,1,2, we would train one classifier on the samples that are class 0 and class 1, a second classifier on samples that are of class 0 and class 2, and a final classifier on samples of class 1 and class 2.\n",
    "\n",
    "For $K$ classes, we have to train $K(K-1)/2$ classifiers. So, if $K=3$, we have $(3x2)/2=3 $classes.\n",
    "\n",
    "To perform classification on a sample, we perform a majority vote and select the class with the most predictions. \n"
   ]
  },
  {
   "cell_type": "markdown",
   "id": "6cf7ca14",
   "metadata": {
    "papermill": {
     "duration": 0.031044,
     "end_time": "2024-02-22T08:05:02.870233",
     "exception": false,
     "start_time": "2024-02-22T08:05:02.839189",
     "status": "completed"
    },
    "tags": []
   },
   "source": [
    "Here, we list each class.\n"
   ]
  },
  {
   "cell_type": "code",
   "execution_count": 25,
   "id": "174fe96c",
   "metadata": {
    "execution": {
     "iopub.execute_input": "2024-02-22T08:05:02.933718Z",
     "iopub.status.busy": "2024-02-22T08:05:02.932989Z",
     "iopub.status.idle": "2024-02-22T08:05:02.939182Z",
     "shell.execute_reply": "2024-02-22T08:05:02.938152Z"
    },
    "papermill": {
     "duration": 0.04031,
     "end_time": "2024-02-22T08:05:02.941220",
     "exception": false,
     "start_time": "2024-02-22T08:05:02.900910",
     "status": "completed"
    },
    "tags": []
   },
   "outputs": [
    {
     "data": {
      "text/plain": [
       "{0, 1, 2}"
      ]
     },
     "execution_count": 25,
     "metadata": {},
     "output_type": "execute_result"
    }
   ],
   "source": [
    "classes_=set(np.unique(y))\n",
    "classes_\n",
    "   "
   ]
  },
  {
   "cell_type": "markdown",
   "id": "ff586297",
   "metadata": {
    "papermill": {
     "duration": 0.030105,
     "end_time": "2024-02-22T08:05:03.001747",
     "exception": false,
     "start_time": "2024-02-22T08:05:02.971642",
     "status": "completed"
    },
    "tags": []
   },
   "source": [
    "Determine the number of classifiers:\n"
   ]
  },
  {
   "cell_type": "code",
   "execution_count": 26,
   "id": "1246dfa7",
   "metadata": {
    "execution": {
     "iopub.execute_input": "2024-02-22T08:05:03.064829Z",
     "iopub.status.busy": "2024-02-22T08:05:03.064114Z",
     "iopub.status.idle": "2024-02-22T08:05:03.070382Z",
     "shell.execute_reply": "2024-02-22T08:05:03.069071Z"
    },
    "papermill": {
     "duration": 0.040302,
     "end_time": "2024-02-22T08:05:03.072444",
     "exception": false,
     "start_time": "2024-02-22T08:05:03.032142",
     "status": "completed"
    },
    "tags": []
   },
   "outputs": [
    {
     "data": {
      "text/plain": [
       "3.0"
      ]
     },
     "execution_count": 26,
     "metadata": {},
     "output_type": "execute_result"
    }
   ],
   "source": [
    "K=len(classes_)\n",
    "K*(K-1)/2"
   ]
  },
  {
   "cell_type": "markdown",
   "id": "1a14c639",
   "metadata": {
    "papermill": {
     "duration": 0.030814,
     "end_time": "2024-02-22T08:05:03.133877",
     "exception": false,
     "start_time": "2024-02-22T08:05:03.103063",
     "status": "completed"
    },
    "tags": []
   },
   "source": [
    "We then train a two-class classifier on each pair of classes. We plot the different training points for each of the two classes. \n"
   ]
  },
  {
   "cell_type": "code",
   "execution_count": 27,
   "id": "2e0fe987",
   "metadata": {
    "execution": {
     "iopub.execute_input": "2024-02-22T08:05:03.197359Z",
     "iopub.status.busy": "2024-02-22T08:05:03.196673Z",
     "iopub.status.idle": "2024-02-22T08:05:04.105858Z",
     "shell.execute_reply": "2024-02-22T08:05:04.104852Z"
    },
    "papermill": {
     "duration": 0.943878,
     "end_time": "2024-02-22T08:05:04.108417",
     "exception": false,
     "start_time": "2024-02-22T08:05:03.164539",
     "status": "completed"
    },
    "tags": []
   },
   "outputs": [
    {
     "name": "stdout",
     "output_type": "stream",
     "text": [
      "class 0 vs class 1 \n"
     ]
    },
    {
     "name": "stderr",
     "output_type": "stream",
     "text": [
      "/tmp/ipykernel_18/508858794.py:27: UserWarning: No data for colormapping provided via 'c'. Parameters 'cmap' will be ignored\n",
      "  plt.scatter(X[idx, 0], X[idx, 1], c=color, label=iris.target_names[i],\n"
     ]
    },
    {
     "data": {
      "image/png": "[encoded data removed]",
      "text/plain": [
       "<Figure size 800x600 with 1 Axes>"
      ]
     },
     "metadata": {},
     "output_type": "display_data"
    },
    {
     "name": "stdout",
     "output_type": "stream",
     "text": [
      "class 0 vs class 2 \n"
     ]
    },
    {
     "name": "stderr",
     "output_type": "stream",
     "text": [
      "/tmp/ipykernel_18/508858794.py:27: UserWarning: No data for colormapping provided via 'c'. Parameters 'cmap' will be ignored\n",
      "  plt.scatter(X[idx, 0], X[idx, 1], c=color, label=iris.target_names[i],\n"
     ]
    },
    {
     "data": {
      "image/png": "[encoded data removed]",
      "text/plain": [
       "<Figure size 800x600 with 1 Axes>"
      ]
     },
     "metadata": {},
     "output_type": "display_data"
    },
    {
     "name": "stdout",
     "output_type": "stream",
     "text": [
      "class 1 vs class 2 \n"
     ]
    },
    {
     "name": "stderr",
     "output_type": "stream",
     "text": [
      "/tmp/ipykernel_18/508858794.py:27: UserWarning: No data for colormapping provided via 'c'. Parameters 'cmap' will be ignored\n",
      "  plt.scatter(X[idx, 0], X[idx, 1], c=color, label=iris.target_names[i],\n"
     ]
    },
    {
     "data": {
      "image/png": "[encoded data removed]",
      "text/plain": [
       "<Figure size 800x600 with 1 Axes>"
      ]
     },
     "metadata": {},
     "output_type": "display_data"
    }
   ],
   "source": [
    "pairs=[]\n",
    "left_overs=classes_.copy()\n",
    "#list used for classifiers \n",
    "my_models=[]\n",
    "#iterate through each class\n",
    "for class_ in classes_:\n",
    "    #remove class we have seen before \n",
    "    left_overs.remove(class_)\n",
    "    #the second class in the pair\n",
    "    for second_class in left_overs:\n",
    "        pairs.append(str(class_)+' and '+str(second_class))\n",
    "        print(\"class {} vs class {} \".format(class_,second_class) )\n",
    "        temp_y=np.zeros(y.shape)\n",
    "        #find classes in pair \n",
    "        select=np.logical_or(y==class_ , y==second_class)\n",
    "        #train model \n",
    "        model=SVC(kernel='linear', gamma=.5, probability=True)  \n",
    "        model.fit(X[select,:],y[select])\n",
    "        my_models.append(model)\n",
    "        #Plot decision boundary for each pair and corresponding Training samples. \n",
    "        decision_boundary (X[select,:],y[select],model)\n",
    "   \n",
    "        \n",
    "    "
   ]
  },
  {
   "cell_type": "code",
   "execution_count": 28,
   "id": "5ec1dc9b",
   "metadata": {
    "execution": {
     "iopub.execute_input": "2024-02-22T08:05:04.180480Z",
     "iopub.status.busy": "2024-02-22T08:05:04.179356Z",
     "iopub.status.idle": "2024-02-22T08:05:04.185524Z",
     "shell.execute_reply": "2024-02-22T08:05:04.184647Z"
    },
    "papermill": {
     "duration": 0.043201,
     "end_time": "2024-02-22T08:05:04.187526",
     "exception": false,
     "start_time": "2024-02-22T08:05:04.144325",
     "status": "completed"
    },
    "tags": []
   },
   "outputs": [
    {
     "data": {
      "text/plain": [
       "['0 and 1', '0 and 2', '1 and 2']"
      ]
     },
     "execution_count": 28,
     "metadata": {},
     "output_type": "execute_result"
    }
   ],
   "source": [
    "pairs"
   ]
  },
  {
   "cell_type": "markdown",
   "id": "189853a4",
   "metadata": {
    "papermill": {
     "duration": 0.033553,
     "end_time": "2024-02-22T08:05:04.254342",
     "exception": false,
     "start_time": "2024-02-22T08:05:04.220789",
     "status": "completed"
    },
    "tags": []
   },
   "source": [
    "As we can see, our data is left-skewed, containing more \"5\" star reviews. \n"
   ]
  },
  {
   "cell_type": "markdown",
   "id": "5f808b18",
   "metadata": {
    "papermill": {
     "duration": 0.033236,
     "end_time": "2024-02-22T08:05:04.321208",
     "exception": false,
     "start_time": "2024-02-22T08:05:04.287972",
     "status": "completed"
    },
    "tags": []
   },
   "source": [
    "Here, we are plotting the distribution of text length.\n"
   ]
  },
  {
   "cell_type": "code",
   "execution_count": 29,
   "id": "77c8502a",
   "metadata": {
    "execution": {
     "iopub.execute_input": "2024-02-22T08:05:04.390749Z",
     "iopub.status.busy": "2024-02-22T08:05:04.390357Z",
     "iopub.status.idle": "2024-02-22T08:05:04.398374Z",
     "shell.execute_reply": "2024-02-22T08:05:04.397252Z"
    },
    "papermill": {
     "duration": 0.045773,
     "end_time": "2024-02-22T08:05:04.400856",
     "exception": false,
     "start_time": "2024-02-22T08:05:04.355083",
     "status": "completed"
    },
    "tags": []
   },
   "outputs": [],
   "source": [
    "pairs\n",
    "majority_vote_array=np.zeros((X.shape[0],3))\n",
    "majority_vote_dict={}\n",
    "for j,(model,pair) in enumerate(zip(my_models,pairs)):\n",
    "\n",
    "    majority_vote_dict[pair]=model.predict(X)\n",
    "    majority_vote_array[:,j]=model.predict(X)"
   ]
  },
  {
   "cell_type": "markdown",
   "id": "36659738",
   "metadata": {
    "papermill": {
     "duration": 0.033289,
     "end_time": "2024-02-22T08:05:04.467657",
     "exception": false,
     "start_time": "2024-02-22T08:05:04.434368",
     "status": "completed"
    },
    "tags": []
   },
   "source": [
    "In the following table, each column is the output of a classifier for each pair of classes and the output is the prediction:\n"
   ]
  },
  {
   "cell_type": "code",
   "execution_count": 30,
   "id": "61d4dcf3",
   "metadata": {
    "execution": {
     "iopub.execute_input": "2024-02-22T08:05:04.539397Z",
     "iopub.status.busy": "2024-02-22T08:05:04.539018Z",
     "iopub.status.idle": "2024-02-22T08:05:04.556849Z",
     "shell.execute_reply": "2024-02-22T08:05:04.555850Z"
    },
    "papermill": {
     "duration": 0.056849,
     "end_time": "2024-02-22T08:05:04.559001",
     "exception": false,
     "start_time": "2024-02-22T08:05:04.502152",
     "status": "completed"
    },
    "tags": []
   },
   "outputs": [
    {
     "data": {
      "text/html": [
       "<div>\n",
       "<style scoped>\n",
       "    .dataframe tbody tr th:only-of-type {\n",
       "        vertical-align: middle;\n",
       "    }\n",
       "\n",
       "    .dataframe tbody tr th {\n",
       "        vertical-align: top;\n",
       "    }\n",
       "\n",
       "    .dataframe thead th {\n",
       "        text-align: right;\n",
       "    }\n",
       "</style>\n",
       "<table border=\"1\" class=\"dataframe\">\n",
       "  <thead>\n",
       "    <tr style=\"text-align: right;\">\n",
       "      <th></th>\n",
       "      <th>0 and 1</th>\n",
       "      <th>0 and 2</th>\n",
       "      <th>1 and 2</th>\n",
       "    </tr>\n",
       "  </thead>\n",
       "  <tbody>\n",
       "    <tr>\n",
       "      <th>0</th>\n",
       "      <td>0</td>\n",
       "      <td>0</td>\n",
       "      <td>1</td>\n",
       "    </tr>\n",
       "    <tr>\n",
       "      <th>1</th>\n",
       "      <td>0</td>\n",
       "      <td>0</td>\n",
       "      <td>1</td>\n",
       "    </tr>\n",
       "    <tr>\n",
       "      <th>2</th>\n",
       "      <td>0</td>\n",
       "      <td>0</td>\n",
       "      <td>1</td>\n",
       "    </tr>\n",
       "    <tr>\n",
       "      <th>3</th>\n",
       "      <td>0</td>\n",
       "      <td>0</td>\n",
       "      <td>1</td>\n",
       "    </tr>\n",
       "    <tr>\n",
       "      <th>4</th>\n",
       "      <td>0</td>\n",
       "      <td>0</td>\n",
       "      <td>1</td>\n",
       "    </tr>\n",
       "    <tr>\n",
       "      <th>5</th>\n",
       "      <td>0</td>\n",
       "      <td>0</td>\n",
       "      <td>1</td>\n",
       "    </tr>\n",
       "    <tr>\n",
       "      <th>6</th>\n",
       "      <td>0</td>\n",
       "      <td>0</td>\n",
       "      <td>1</td>\n",
       "    </tr>\n",
       "    <tr>\n",
       "      <th>7</th>\n",
       "      <td>0</td>\n",
       "      <td>0</td>\n",
       "      <td>1</td>\n",
       "    </tr>\n",
       "    <tr>\n",
       "      <th>8</th>\n",
       "      <td>0</td>\n",
       "      <td>0</td>\n",
       "      <td>1</td>\n",
       "    </tr>\n",
       "    <tr>\n",
       "      <th>9</th>\n",
       "      <td>0</td>\n",
       "      <td>0</td>\n",
       "      <td>1</td>\n",
       "    </tr>\n",
       "  </tbody>\n",
       "</table>\n",
       "</div>"
      ],
      "text/plain": [
       "   0 and 1  0 and 2  1 and 2\n",
       "0        0        0        1\n",
       "1        0        0        1\n",
       "2        0        0        1\n",
       "3        0        0        1\n",
       "4        0        0        1\n",
       "5        0        0        1\n",
       "6        0        0        1\n",
       "7        0        0        1\n",
       "8        0        0        1\n",
       "9        0        0        1"
      ]
     },
     "execution_count": 30,
     "metadata": {},
     "output_type": "execute_result"
    }
   ],
   "source": [
    "pd.DataFrame(majority_vote_dict).head(10)"
   ]
  },
  {
   "cell_type": "markdown",
   "id": "b6eb4d23",
   "metadata": {
    "papermill": {
     "duration": 0.03358,
     "end_time": "2024-02-22T08:05:04.626384",
     "exception": false,
     "start_time": "2024-02-22T08:05:04.592804",
     "status": "completed"
    },
    "tags": []
   },
   "source": [
    "To perform classification on a sample, we perform a majority vote, that is, select the class with the most predictions. We repeat the process for each sample. \n"
   ]
  },
  {
   "cell_type": "code",
   "execution_count": 31,
   "id": "9a5d653f",
   "metadata": {
    "execution": {
     "iopub.execute_input": "2024-02-22T08:05:04.696939Z",
     "iopub.status.busy": "2024-02-22T08:05:04.696061Z",
     "iopub.status.idle": "2024-02-22T08:05:04.705283Z",
     "shell.execute_reply": "2024-02-22T08:05:04.704146Z"
    },
    "papermill": {
     "duration": 0.046592,
     "end_time": "2024-02-22T08:05:04.707411",
     "exception": false,
     "start_time": "2024-02-22T08:05:04.660819",
     "status": "completed"
    },
    "tags": []
   },
   "outputs": [
    {
     "data": {
      "text/plain": [
       "array([0, 0, 0, 0, 0, 0, 0, 0, 0, 0, 0, 0, 0, 0, 0, 0, 0, 0, 0, 0, 0, 0,\n",
       "       0, 0, 0, 0, 0, 0, 0, 0, 0, 0, 0, 0, 0, 0, 0, 0, 0, 0, 0, 0, 0, 0,\n",
       "       0, 0, 0, 0, 0, 0, 1, 1, 1, 1, 1, 1, 1, 1, 1, 1, 1, 1, 1, 1, 1, 1,\n",
       "       1, 1, 1, 1, 2, 1, 1, 1, 1, 1, 1, 2, 1, 1, 1, 1, 1, 1, 1, 1, 1, 1,\n",
       "       1, 1, 1, 1, 1, 1, 1, 1, 1, 1, 1, 1, 2, 2, 2, 2, 2, 2, 2, 2, 2, 2,\n",
       "       2, 2, 2, 2, 2, 2, 2, 2, 2, 1, 2, 2, 2, 2, 2, 2, 2, 2, 2, 1, 2, 2,\n",
       "       2, 1, 1, 2, 2, 2, 2, 2, 2, 2, 2, 2, 2, 2, 2, 2, 2, 2])"
      ]
     },
     "execution_count": 31,
     "metadata": {},
     "output_type": "execute_result"
    }
   ],
   "source": [
    "one_vs_one=np.array([np.bincount(sample.astype(int)).argmax() for sample  in majority_vote_array]) \n",
    "one_vs_one\n",
    "    "
   ]
  },
  {
   "cell_type": "markdown",
   "id": "0b45d71a",
   "metadata": {
    "papermill": {
     "duration": 0.033175,
     "end_time": "2024-02-22T08:05:04.774115",
     "exception": false,
     "start_time": "2024-02-22T08:05:04.740940",
     "status": "completed"
    },
    "tags": []
   },
   "source": [
    "We calculate the accuracy:\n"
   ]
  },
  {
   "cell_type": "code",
   "execution_count": 32,
   "id": "a5162e8b",
   "metadata": {
    "execution": {
     "iopub.execute_input": "2024-02-22T08:05:04.843384Z",
     "iopub.status.busy": "2024-02-22T08:05:04.843017Z",
     "iopub.status.idle": "2024-02-22T08:05:04.850355Z",
     "shell.execute_reply": "2024-02-22T08:05:04.849335Z"
    },
    "papermill": {
     "duration": 0.044797,
     "end_time": "2024-02-22T08:05:04.852638",
     "exception": false,
     "start_time": "2024-02-22T08:05:04.807841",
     "status": "completed"
    },
    "tags": []
   },
   "outputs": [
    {
     "data": {
      "text/plain": [
       "0.96"
      ]
     },
     "execution_count": 32,
     "metadata": {},
     "output_type": "execute_result"
    }
   ],
   "source": [
    "accuracy_score(y,one_vs_one)"
   ]
  },
  {
   "cell_type": "markdown",
   "id": "7942115a",
   "metadata": {
    "papermill": {
     "duration": 0.032943,
     "end_time": "2024-02-22T08:05:04.919397",
     "exception": false,
     "start_time": "2024-02-22T08:05:04.886454",
     "status": "completed"
    },
    "tags": []
   },
   "source": [
    "If we compare it to `sklearn`, it's the same! \n"
   ]
  },
  {
   "cell_type": "code",
   "execution_count": 33,
   "id": "7bcac761",
   "metadata": {
    "execution": {
     "iopub.execute_input": "2024-02-22T08:05:04.988616Z",
     "iopub.status.busy": "2024-02-22T08:05:04.988238Z",
     "iopub.status.idle": "2024-02-22T08:05:04.994880Z",
     "shell.execute_reply": "2024-02-22T08:05:04.994123Z"
    },
    "papermill": {
     "duration": 0.044199,
     "end_time": "2024-02-22T08:05:04.996919",
     "exception": false,
     "start_time": "2024-02-22T08:05:04.952720",
     "status": "completed"
    },
    "tags": []
   },
   "outputs": [
    {
     "data": {
      "text/plain": [
       "1.0"
      ]
     },
     "execution_count": 33,
     "metadata": {},
     "output_type": "execute_result"
    }
   ],
   "source": [
    "accuracy_score(yhat,one_vs_one)"
   ]
  }
 ],
 "metadata": {
  "kaggle": {
   "accelerator": "none",
   "dataSources": [],
   "dockerImageVersionId": 30646,
   "isGpuEnabled": false,
   "isInternetEnabled": true,
   "language": "python",
   "sourceType": "notebook"
  },
  "kernelspec": {
   "display_name": "Python 3",
   "language": "python",
   "name": "python3"
  },
  "language_info": {
   "codemirror_mode": {
    "name": "ipython",
    "version": 3
   },
   "file_extension": ".py",
   "mimetype": "text/x-python",
   "name": "python",
   "nbconvert_exporter": "python",
   "pygments_lexer": "ipython3",
   "version": "3.10.13"
  },
  "papermill": {
   "default_parameters": {},
   "duration": 14.832276,
   "end_time": "2024-02-22T08:05:05.651438",
   "environment_variables": {},
   "exception": null,
   "input_path": "__notebook__.ipynb",
   "output_path": "__notebook__.ipynb",
   "parameters": {},
   "start_time": "2024-02-22T08:04:50.819162",
   "version": "2.5.0"
  }
 },
 "nbformat": 4,
 "nbformat_minor": 5
}
