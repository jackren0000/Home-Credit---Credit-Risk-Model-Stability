{
 "cells": [
  {
   "cell_type": "markdown",
   "id": "7d851b08",
   "metadata": {
    "papermill": {
     "duration": 0.014207,
     "end_time": "2024-02-20T08:06:44.763046",
     "exception": false,
     "start_time": "2024-02-20T08:06:44.748839",
     "status": "completed"
    },
    "tags": []
   },
   "source": [
    "<p style=\"text-align:center\">\n",
    "    <a href=\"https://skills.network/?utm_medium=Exinfluencer&utm_source=Exinfluencer&utm_content=000026UJ&utm_term=10006555&utm_id=NA-SkillsNetwork-Channel-SkillsNetworkCoursesIBMDeveloperSkillsNetworkML0101ENSkillsNetwork1047-2023-01-01\">\n",
    "    <img src=\"https://cf-courses-data.s3.us.cloud-object-storage.appdomain.cloud/assets/logos/SN_web_lightmode.png\" width=\"200\" alt=\"Skills Network Logo\"  />\n",
    "    </a>\n",
    "</p>\n"
   ]
  },
  {
   "cell_type": "markdown",
   "id": "95e0f670",
   "metadata": {
    "papermill": {
     "duration": 0.014491,
     "end_time": "2024-02-20T08:06:44.791280",
     "exception": false,
     "start_time": "2024-02-20T08:06:44.776789",
     "status": "completed"
    },
    "tags": []
   },
   "source": [
    "#  **Softmax Regression, One-vs-All and One-vs-One for Multi-class Classification**\n"
   ]
  },
  {
   "cell_type": "markdown",
   "id": "4f41251c",
   "metadata": {
    "papermill": {
     "duration": 0.014086,
     "end_time": "2024-02-20T08:06:44.819075",
     "exception": false,
     "start_time": "2024-02-20T08:06:44.804989",
     "status": "completed"
    },
    "tags": []
   },
   "source": [
    "Estimated time needed: **1** hour\n"
   ]
  },
  {
   "cell_type": "markdown",
   "id": "ae6da649",
   "metadata": {
    "papermill": {
     "duration": 0.013409,
     "end_time": "2024-02-20T08:06:44.846059",
     "exception": false,
     "start_time": "2024-02-20T08:06:44.832650",
     "status": "completed"
    },
    "tags": []
   },
   "source": [
    " In this lab, we will study how to convert a linear classifier into a multi-class classifier, including multinomial logistic regression or softmax regression, One vs. All (One-vs-Rest) and One vs. One.\n"
   ]
  },
  {
   "cell_type": "markdown",
   "id": "14b2fa6c",
   "metadata": {
    "papermill": {
     "duration": 0.013414,
     "end_time": "2024-02-20T08:06:44.873056",
     "exception": false,
     "start_time": "2024-02-20T08:06:44.859642",
     "status": "completed"
    },
    "tags": []
   },
   "source": [
    "## **Objectives**\n"
   ]
  },
  {
   "cell_type": "markdown",
   "id": "c653ed97",
   "metadata": {
    "papermill": {
     "duration": 0.013175,
     "end_time": "2024-02-20T08:06:44.899754",
     "exception": false,
     "start_time": "2024-02-20T08:06:44.886579",
     "status": "completed"
    },
    "tags": []
   },
   "source": [
    "After completing this lab you will be able to:\n"
   ]
  },
  {
   "cell_type": "markdown",
   "id": "116cc17e",
   "metadata": {
    "papermill": {
     "duration": 0.013236,
     "end_time": "2024-02-20T08:06:44.926348",
     "exception": false,
     "start_time": "2024-02-20T08:06:44.913112",
     "status": "completed"
    },
    "tags": []
   },
   "source": [
    "*   Understand and apply some theory behind:\n",
    "    *  Softmax regression\n",
    "    *  One vs. All (One-vs-Rest)\n",
    "    * One vs. One\n"
   ]
  },
  {
   "cell_type": "markdown",
   "id": "5b70d989",
   "metadata": {
    "papermill": {
     "duration": 0.013337,
     "end_time": "2024-02-20T08:06:44.953270",
     "exception": false,
     "start_time": "2024-02-20T08:06:44.939933",
     "status": "completed"
    },
    "tags": []
   },
   "source": [
    "## **Introduction**\n"
   ]
  },
  {
   "cell_type": "markdown",
   "id": "ab6bffdf",
   "metadata": {
    "papermill": {
     "duration": 0.013489,
     "end_time": "2024-02-20T08:06:44.980422",
     "exception": false,
     "start_time": "2024-02-20T08:06:44.966933",
     "status": "completed"
    },
    "tags": []
   },
   "source": [
    "In Multi-class classification, we classify data into multiple class labels. Unlike classification trees and k-nearest neighbor, the concept of multi-class classification for linear classifiers is not as straightforward. We can convert logistic regression to multi-class classification using multinomial logistic regression or softmax regression; this is a generalization of logistic regression, this will not work for support vector machines. One vs. All (One-vs-Rest) and One vs. One are two other multi-class classification techniques can convert any two-class classifier into a multi-class classifier.\n"
   ]
  },
  {
   "cell_type": "markdown",
   "id": "898146ac",
   "metadata": {
    "papermill": {
     "duration": 0.016552,
     "end_time": "2024-02-20T08:06:45.010685",
     "exception": false,
     "start_time": "2024-02-20T08:06:44.994133",
     "status": "completed"
    },
    "tags": []
   },
   "source": [
    "***\n"
   ]
  },
  {
   "cell_type": "markdown",
   "id": "3170c7d0",
   "metadata": {
    "papermill": {
     "duration": 0.013529,
     "end_time": "2024-02-20T08:06:45.038133",
     "exception": false,
     "start_time": "2024-02-20T08:06:45.024604",
     "status": "completed"
    },
    "tags": []
   },
   "source": [
    "## **Install and Import the required libraries**\n"
   ]
  },
  {
   "cell_type": "markdown",
   "id": "1c45fff6",
   "metadata": {
    "papermill": {
     "duration": 0.013492,
     "end_time": "2024-02-20T08:06:45.065346",
     "exception": false,
     "start_time": "2024-02-20T08:06:45.051854",
     "status": "completed"
    },
    "tags": []
   },
   "source": [
    "For this lab, we are going to be using several Python libraries such as scit-learn, numpy, and matplotlib  for visualizations. Some of these libraries might be installed in your lab environment, and others may need to be installed by you by removing the hash signs. The cells below will install these libraries when executed.\n"
   ]
  },
  {
   "cell_type": "code",
   "execution_count": 1,
   "id": "f2a59731",
   "metadata": {
    "execution": {
     "iopub.execute_input": "2024-02-20T08:06:45.094504Z",
     "iopub.status.busy": "2024-02-20T08:06:45.093877Z",
     "iopub.status.idle": "2024-02-20T08:06:47.239790Z",
     "shell.execute_reply": "2024-02-20T08:06:47.238709Z"
    },
    "papermill": {
     "duration": 2.163255,
     "end_time": "2024-02-20T08:06:47.242249",
     "exception": false,
     "start_time": "2024-02-20T08:06:45.078994",
     "status": "completed"
    },
    "tags": []
   },
   "outputs": [],
   "source": [
    "import numpy as np\n",
    "import matplotlib.pyplot as plt\n",
    "from sklearn import datasets\n",
    "from sklearn.svm import SVC\n",
    "from sklearn.linear_model import LogisticRegression\n",
    "from sklearn.metrics import accuracy_score\n",
    "import pandas as pd"
   ]
  },
  {
   "cell_type": "markdown",
   "id": "9750fc6c",
   "metadata": {
    "papermill": {
     "duration": 0.014181,
     "end_time": "2024-02-20T08:06:47.271040",
     "exception": false,
     "start_time": "2024-02-20T08:06:47.256859",
     "status": "completed"
    },
    "tags": []
   },
   "source": [
    "## Utility Function\n"
   ]
  },
  {
   "cell_type": "markdown",
   "id": "784526f8",
   "metadata": {
    "papermill": {
     "duration": 0.013853,
     "end_time": "2024-02-20T08:06:47.299905",
     "exception": false,
     "start_time": "2024-02-20T08:06:47.286052",
     "status": "completed"
    },
    "tags": []
   },
   "source": [
    "This function plots a different decision boundary. \n"
   ]
  },
  {
   "cell_type": "code",
   "execution_count": 2,
   "id": "21dcec7c",
   "metadata": {
    "execution": {
     "iopub.execute_input": "2024-02-20T08:06:47.330696Z",
     "iopub.status.busy": "2024-02-20T08:06:47.330176Z",
     "iopub.status.idle": "2024-02-20T08:06:47.342146Z",
     "shell.execute_reply": "2024-02-20T08:06:47.340847Z"
    },
    "papermill": {
     "duration": 0.030057,
     "end_time": "2024-02-20T08:06:47.344735",
     "exception": false,
     "start_time": "2024-02-20T08:06:47.314678",
     "status": "completed"
    },
    "tags": []
   },
   "outputs": [],
   "source": [
    "# set the colors used for plotting\n",
    "plot_colors = \"ryb\"\n",
    "# define the resolution of the mesh grid\n",
    "plot_step = 0.02\n",
    "\n",
    "def decision_boundary(X, y, model):\n",
    "    # calculate the minimum and maximum values for the features and add a margin\n",
    "    x_min, x_max = X[:, 0].min() - 1, X[:, 0].max() + 1\n",
    "    y_min, y_max = X[:, 1].min() - 1, X[:, 1].max() + 1\n",
    "    \n",
    "    # create a mesh grid for the range of x and y values\n",
    "    xx, yy = np.meshgrid(np.arange(x_min, x_max, plot_step),\n",
    "                         np.arange(y_min, y_max, plot_step))\n",
    "    \n",
    "    # predict the model output for each point on the grid\n",
    "    Z = model.predict(np.c_[xx.ravel(), yy.ravel()])\n",
    "    Z = Z.reshape(xx.shape)\n",
    "    \n",
    "    # create a contour plot using the predictions\n",
    "    plt.figure(figsize=(8, 6))\n",
    "    plt.contourf(xx, yy, Z, cmap=plt.cm.RdYlBu)\n",
    "\n",
    "    # plot the training points\n",
    "    for i, color in zip(np.unique(y), plot_colors):\n",
    "        idx = np.where(y == i)\n",
    "        plt.scatter(X[idx, 0], X[idx, 1], c=color, label=iris.target_names[i],\n",
    "                    cmap=plt.cm.RdYlBu, edgecolor='black', s=15)\n",
    "\n",
    "    plt.suptitle(\"Decision surface of a model\")\n",
    "    plt.legend(loc='lower right', borderpad=0, handletextpad=0)\n",
    "    plt.axis(\"tight\")\n",
    "    \n",
    "    # add axis labels (assuming iris dataset here)\n",
    "    plt.xlabel(iris.feature_names[0])\n",
    "    plt.ylabel(iris.feature_names[1])\n",
    "    \n",
    "    # show the plot\n",
    "    plt.show()"
   ]
  },
  {
   "cell_type": "markdown",
   "id": "22a98383",
   "metadata": {
    "papermill": {
     "duration": 0.014946,
     "end_time": "2024-02-20T08:06:47.374394",
     "exception": false,
     "start_time": "2024-02-20T08:06:47.359448",
     "status": "completed"
    },
    "tags": []
   },
   "source": [
    "This function will plot the probability of belonging to each class; each column is the probability of belonging to a class and the row number is the sample number.\n"
   ]
  },
  {
   "cell_type": "code",
   "execution_count": 3,
   "id": "0ca98ad6",
   "metadata": {
    "execution": {
     "iopub.execute_input": "2024-02-20T08:06:47.403885Z",
     "iopub.status.busy": "2024-02-20T08:06:47.403539Z",
     "iopub.status.idle": "2024-02-20T08:06:47.409668Z",
     "shell.execute_reply": "2024-02-20T08:06:47.408601Z"
    },
    "papermill": {
     "duration": 0.022974,
     "end_time": "2024-02-20T08:06:47.411374",
     "exception": false,
     "start_time": "2024-02-20T08:06:47.388400",
     "status": "completed"
    },
    "tags": []
   },
   "outputs": [],
   "source": [
    "def plot_probability_array(X, probability_array):\n",
    "    # initialize plot_array with zeros; it has 3 blocks, each 10 columns wide\n",
    "    plot_array = np.zeros((X.shape[0], 3 * 10))\n",
    "    \n",
    "    # loop through each class and fill the plot_array\n",
    "    for class_idx in range(3):  # there are 3 classes\n",
    "        col_start = class_idx * 10  # start column for the current class block\n",
    "        col_end = col_start + 10    # end column for the current class block\n",
    "        \n",
    "        # fill the block with the repeated class probabilities\n",
    "        plot_array[:, col_start:col_end] = np.tile(probability_array[:, class_idx, np.newaxis], (1, 10))\n",
    "    \n",
    "    # plot the array as an image with a colorbar\n",
    "    plt.imshow(plot_array, aspect='auto')\n",
    "    plt.xticks([])\n",
    "    plt.ylabel(\"Samples\")\n",
    "    plt.xlabel(\"Probability of 3 Classes\")\n",
    "    plt.colorbar()\n",
    "    plt.show()"
   ]
  },
  {
   "cell_type": "markdown",
   "id": "bd65f411",
   "metadata": {
    "papermill": {
     "duration": 0.06967,
     "end_time": "2024-02-20T08:06:47.495285",
     "exception": false,
     "start_time": "2024-02-20T08:06:47.425615",
     "status": "completed"
    },
    "tags": []
   },
   "source": [
    "In ths lab we will use the  iris dataset,  it consists of three different types of irises’ (Setosa y=0, Versicolour y=1, and Virginica y=2), petal and sepal length, stored in a 150x4 numpy.ndarray.\n",
    "\n",
    "The rows being the samples and the columns: Sepal Length, Sepal Width, Petal Length and Petal Width.\n",
    "\n",
    "The following plot uses the second two features:\n"
   ]
  },
  {
   "cell_type": "code",
   "execution_count": 4,
   "id": "c58ccbf5",
   "metadata": {
    "execution": {
     "iopub.execute_input": "2024-02-20T08:06:47.526300Z",
     "iopub.status.busy": "2024-02-20T08:06:47.525427Z",
     "iopub.status.idle": "2024-02-20T08:06:47.543936Z",
     "shell.execute_reply": "2024-02-20T08:06:47.542608Z"
    },
    "papermill": {
     "duration": 0.035962,
     "end_time": "2024-02-20T08:06:47.545875",
     "exception": false,
     "start_time": "2024-02-20T08:06:47.509913",
     "status": "completed"
    },
    "tags": []
   },
   "outputs": [
    {
     "data": {
      "text/plain": [
       "array([0, 1, 2])"
      ]
     },
     "execution_count": 4,
     "metadata": {},
     "output_type": "execute_result"
    }
   ],
   "source": [
    "# creates a list 'pair' used as indices\n",
    "pair=[1, 3]\n",
    "# load the iris dataset\n",
    "iris = datasets.load_iris()\n",
    "# choose [1, 3] columns of X\n",
    "X = iris.data[:, pair]\n",
    "# assign target/label to y\n",
    "y = iris.target\n",
    "np.unique(y)"
   ]
  },
  {
   "cell_type": "code",
   "execution_count": 5,
   "id": "4d5a1661",
   "metadata": {
    "execution": {
     "iopub.execute_input": "2024-02-20T08:06:47.576375Z",
     "iopub.status.busy": "2024-02-20T08:06:47.575341Z",
     "iopub.status.idle": "2024-02-20T08:06:47.843687Z",
     "shell.execute_reply": "2024-02-20T08:06:47.842527Z"
    },
    "papermill": {
     "duration": 0.285498,
     "end_time": "2024-02-20T08:06:47.845688",
     "exception": false,
     "start_time": "2024-02-20T08:06:47.560190",
     "status": "completed"
    },
    "tags": []
   },
   "outputs": [
    {
     "data": {
      "text/plain": [
       "Text(0, 0.5, 'petal width')"
      ]
     },
     "execution_count": 5,
     "metadata": {},
     "output_type": "execute_result"
    },
    {
     "data": {
      "image/png": "[encoded data removed]",
      "text/plain": [
       "<Figure size 640x480 with 1 Axes>"
      ]
     },
     "metadata": {},
     "output_type": "display_data"
    }
   ],
   "source": [
    "# 0 column represents sepal width and 1 column represents petal width\n",
    "# the points are colored based on each sample label\n",
    "plt.scatter(X[:, 0], X[:, 1], c=y, cmap=plt.cm.RdYlBu)\n",
    "plt.xlabel(\"sepal width (cm)\")\n",
    "plt.ylabel(\"petal width\")"
   ]
  },
  {
   "cell_type": "markdown",
   "id": "e9707457",
   "metadata": {
    "papermill": {
     "duration": 0.014209,
     "end_time": "2024-02-20T08:06:47.874521",
     "exception": false,
     "start_time": "2024-02-20T08:06:47.860312",
     "status": "completed"
    },
    "tags": []
   },
   "source": [
    "## **Softmax Regression**  \n"
   ]
  },
  {
   "cell_type": "markdown",
   "id": "d788a57f",
   "metadata": {
    "papermill": {
     "duration": 0.013987,
     "end_time": "2024-02-20T08:06:47.902999",
     "exception": false,
     "start_time": "2024-02-20T08:06:47.889012",
     "status": "completed"
    },
    "tags": []
   },
   "source": [
    "SoftMax regression is similar to logistic regression, and the softmax function converts the actual distances, that is, dot products of $x$ with each of the parameters $\\theta_i$ for the $K$ classes. This is converted to probabilities using the following: \n"
   ]
  },
  {
   "cell_type": "markdown",
   "id": "7920588e",
   "metadata": {
    "papermill": {
     "duration": 0.014239,
     "end_time": "2024-02-20T08:06:47.931788",
     "exception": false,
     "start_time": "2024-02-20T08:06:47.917549",
     "status": "completed"
    },
    "tags": []
   },
   "source": [
    "$softmax(x,i) = \\frac{e^{ \\theta_i^T \\bf x}}{\\sum_{j=1}^K e^{\\theta_j^T x}} $\n"
   ]
  },
  {
   "cell_type": "markdown",
   "id": "713fdc02",
   "metadata": {
    "papermill": {
     "duration": 0.014413,
     "end_time": "2024-02-20T08:06:47.960739",
     "exception": false,
     "start_time": "2024-02-20T08:06:47.946326",
     "status": "completed"
    },
    "tags": []
   },
   "source": [
    "The training procedure is almost identical to logistic regression. Consider the three-class example where $y \\in \\{0,1,2\\}$ we would like to classify $x_1$. We can use the softmax function to generate a probability of how likely the sample belongs to each class:\n"
   ]
  },
  {
   "cell_type": "markdown",
   "id": "782977ec",
   "metadata": {
    "papermill": {
     "duration": 0.015039,
     "end_time": "2024-02-20T08:06:47.990374",
     "exception": false,
     "start_time": "2024-02-20T08:06:47.975335",
     "status": "completed"
    },
    "tags": []
   },
   "source": [
    "$[softmax(x_1,0),softmax(x_1,1),softmax(x_1,2)]=[0.97,0.2,0.1]$\n"
   ]
  },
  {
   "cell_type": "markdown",
   "id": "2a20adcd",
   "metadata": {
    "papermill": {
     "duration": 0.014497,
     "end_time": "2024-02-20T08:06:48.022897",
     "exception": false,
     "start_time": "2024-02-20T08:06:48.008400",
     "status": "completed"
    },
    "tags": []
   },
   "source": [
    "The index of each probability is the same as the class. We can make a prediction using the argmax function:\n"
   ]
  },
  {
   "cell_type": "markdown",
   "id": "a63679d8",
   "metadata": {
    "papermill": {
     "duration": 0.014196,
     "end_time": "2024-02-20T08:06:48.051446",
     "exception": false,
     "start_time": "2024-02-20T08:06:48.037250",
     "status": "completed"
    },
    "tags": []
   },
   "source": [
    "$\\hat{y}=argmax_i  \\{softmax(x,i)\\}$\n"
   ]
  },
  {
   "cell_type": "markdown",
   "id": "442eb002",
   "metadata": {
    "papermill": {
     "duration": 0.014245,
     "end_time": "2024-02-20T08:06:48.080238",
     "exception": false,
     "start_time": "2024-02-20T08:06:48.065993",
     "status": "completed"
    },
    "tags": []
   },
   "source": [
    "For the previous example, we can make a prediction as follows:\n"
   ]
  },
  {
   "cell_type": "markdown",
   "id": "bec70c70",
   "metadata": {
    "papermill": {
     "duration": 0.014435,
     "end_time": "2024-02-20T08:06:48.109327",
     "exception": false,
     "start_time": "2024-02-20T08:06:48.094892",
     "status": "completed"
    },
    "tags": []
   },
   "source": [
    "$\\hat{y}=argmax_i  \\{[0.97,0.2,0.1]\\}=0$\n"
   ]
  },
  {
   "cell_type": "markdown",
   "id": "aca4b8ce",
   "metadata": {
    "papermill": {
     "duration": 0.014492,
     "end_time": "2024-02-20T08:06:48.138382",
     "exception": false,
     "start_time": "2024-02-20T08:06:48.123890",
     "status": "completed"
    },
    "tags": []
   },
   "source": [
    "The <code>sklearn</code> does this automatically, but we can verify the prediction step, as we fit the model:\n"
   ]
  },
  {
   "cell_type": "code",
   "execution_count": 6,
   "id": "f6eddaa4",
   "metadata": {
    "execution": {
     "iopub.execute_input": "2024-02-20T08:06:48.169038Z",
     "iopub.status.busy": "2024-02-20T08:06:48.168722Z",
     "iopub.status.idle": "2024-02-20T08:06:48.185992Z",
     "shell.execute_reply": "2024-02-20T08:06:48.185295Z"
    },
    "papermill": {
     "duration": 0.035353,
     "end_time": "2024-02-20T08:06:48.188195",
     "exception": false,
     "start_time": "2024-02-20T08:06:48.152842",
     "status": "completed"
    },
    "tags": []
   },
   "outputs": [],
   "source": [
    "lr = LogisticRegression(random_state=42).fit(X, y)"
   ]
  },
  {
   "cell_type": "markdown",
   "id": "c783c707",
   "metadata": {
    "papermill": {
     "duration": 0.014348,
     "end_time": "2024-02-20T08:06:48.217348",
     "exception": false,
     "start_time": "2024-02-20T08:06:48.203000",
     "status": "completed"
    },
    "tags": []
   },
   "source": [
    "We generate the probability using the method <ocde>predict_proba</code>:\n"
   ]
  },
  {
   "cell_type": "code",
   "execution_count": 7,
   "id": "67dc214e",
   "metadata": {
    "execution": {
     "iopub.execute_input": "2024-02-20T08:06:48.249263Z",
     "iopub.status.busy": "2024-02-20T08:06:48.248168Z",
     "iopub.status.idle": "2024-02-20T08:06:48.253039Z",
     "shell.execute_reply": "2024-02-20T08:06:48.252276Z"
    },
    "papermill": {
     "duration": 0.022877,
     "end_time": "2024-02-20T08:06:48.254928",
     "exception": false,
     "start_time": "2024-02-20T08:06:48.232051",
     "status": "completed"
    },
    "tags": []
   },
   "outputs": [],
   "source": [
    "probability=lr.predict_proba(X)"
   ]
  },
  {
   "cell_type": "markdown",
   "id": "a3cefaa0",
   "metadata": {
    "papermill": {
     "duration": 0.014723,
     "end_time": "2024-02-20T08:06:48.284754",
     "exception": false,
     "start_time": "2024-02-20T08:06:48.270031",
     "status": "completed"
    },
    "tags": []
   },
   "source": [
    "We can plot the probability of belonging to each class; each column is the probability of belonging to a class and the row number is the sample number.\n"
   ]
  },
  {
   "cell_type": "code",
   "execution_count": 8,
   "id": "aeaedc34",
   "metadata": {
    "execution": {
     "iopub.execute_input": "2024-02-20T08:06:48.316084Z",
     "iopub.status.busy": "2024-02-20T08:06:48.315742Z",
     "iopub.status.idle": "2024-02-20T08:06:48.507356Z",
     "shell.execute_reply": "2024-02-20T08:06:48.506380Z"
    },
    "papermill": {
     "duration": 0.209313,
     "end_time": "2024-02-20T08:06:48.509055",
     "exception": false,
     "start_time": "2024-02-20T08:06:48.299742",
     "status": "completed"
    },
    "tags": []
   },
   "outputs": [
    {
     "data": {
      "image/png": "[encoded data removed]",
      "text/plain": [
       "<Figure size 640x480 with 2 Axes>"
      ]
     },
     "metadata": {},
     "output_type": "display_data"
    }
   ],
   "source": [
    "plot_probability_array(X,probability)"
   ]
  },
  {
   "cell_type": "markdown",
   "id": "1ef46800",
   "metadata": {
    "papermill": {
     "duration": 0.014684,
     "end_time": "2024-02-20T08:06:48.538635",
     "exception": false,
     "start_time": "2024-02-20T08:06:48.523951",
     "status": "completed"
    },
    "tags": []
   },
   "source": [
    "Here, is the output for the first sample:\n"
   ]
  },
  {
   "cell_type": "code",
   "execution_count": 9,
   "id": "49375de3",
   "metadata": {
    "execution": {
     "iopub.execute_input": "2024-02-20T08:06:48.570095Z",
     "iopub.status.busy": "2024-02-20T08:06:48.569789Z",
     "iopub.status.idle": "2024-02-20T08:06:48.576556Z",
     "shell.execute_reply": "2024-02-20T08:06:48.575671Z"
    },
    "papermill": {
     "duration": 0.024896,
     "end_time": "2024-02-20T08:06:48.578256",
     "exception": false,
     "start_time": "2024-02-20T08:06:48.553360",
     "status": "completed"
    },
    "tags": []
   },
   "outputs": [
    {
     "data": {
      "text/plain": [
       "array([9.57671606e-01, 4.22321095e-02, 9.62845517e-05])"
      ]
     },
     "execution_count": 9,
     "metadata": {},
     "output_type": "execute_result"
    }
   ],
   "source": [
    "probability[0,:]"
   ]
  },
  {
   "cell_type": "markdown",
   "id": "f61182f8",
   "metadata": {
    "papermill": {
     "duration": 0.014852,
     "end_time": "2024-02-20T08:06:48.608484",
     "exception": false,
     "start_time": "2024-02-20T08:06:48.593632",
     "status": "completed"
    },
    "tags": []
   },
   "source": [
    "We see it sums to one.\n"
   ]
  },
  {
   "cell_type": "code",
   "execution_count": 10,
   "id": "db8ae11b",
   "metadata": {
    "execution": {
     "iopub.execute_input": "2024-02-20T08:06:48.640842Z",
     "iopub.status.busy": "2024-02-20T08:06:48.640257Z",
     "iopub.status.idle": "2024-02-20T08:06:48.647833Z",
     "shell.execute_reply": "2024-02-20T08:06:48.646495Z"
    },
    "papermill": {
     "duration": 0.026527,
     "end_time": "2024-02-20T08:06:48.650096",
     "exception": false,
     "start_time": "2024-02-20T08:06:48.623569",
     "status": "completed"
    },
    "tags": []
   },
   "outputs": [
    {
     "data": {
      "text/plain": [
       "1.0"
      ]
     },
     "execution_count": 10,
     "metadata": {},
     "output_type": "execute_result"
    }
   ],
   "source": [
    "probability[0,:].sum()"
   ]
  },
  {
   "cell_type": "markdown",
   "id": "8821acbe",
   "metadata": {
    "papermill": {
     "duration": 0.015251,
     "end_time": "2024-02-20T08:06:48.681444",
     "exception": false,
     "start_time": "2024-02-20T08:06:48.666193",
     "status": "completed"
    },
    "tags": []
   },
   "source": [
    "We can apply the $argmax$ function.\n"
   ]
  },
  {
   "cell_type": "code",
   "execution_count": 11,
   "id": "148131d0",
   "metadata": {
    "execution": {
     "iopub.execute_input": "2024-02-20T08:06:48.713696Z",
     "iopub.status.busy": "2024-02-20T08:06:48.713361Z",
     "iopub.status.idle": "2024-02-20T08:06:48.720146Z",
     "shell.execute_reply": "2024-02-20T08:06:48.719199Z"
    },
    "papermill": {
     "duration": 0.025003,
     "end_time": "2024-02-20T08:06:48.721963",
     "exception": false,
     "start_time": "2024-02-20T08:06:48.696960",
     "status": "completed"
    },
    "tags": []
   },
   "outputs": [
    {
     "data": {
      "text/plain": [
       "0"
      ]
     },
     "execution_count": 11,
     "metadata": {},
     "output_type": "execute_result"
    }
   ],
   "source": [
    "np.argmax(probability[0,:])"
   ]
  },
  {
   "cell_type": "markdown",
   "id": "14e2d0d9",
   "metadata": {
    "papermill": {
     "duration": 0.014977,
     "end_time": "2024-02-20T08:06:48.752289",
     "exception": false,
     "start_time": "2024-02-20T08:06:48.737312",
     "status": "completed"
    },
    "tags": []
   },
   "source": [
    "We can apply the $argmax$ function to each sample.\n"
   ]
  },
  {
   "cell_type": "code",
   "execution_count": 12,
   "id": "056a5a2c",
   "metadata": {
    "execution": {
     "iopub.execute_input": "2024-02-20T08:06:48.784304Z",
     "iopub.status.busy": "2024-02-20T08:06:48.784003Z",
     "iopub.status.idle": "2024-02-20T08:06:48.790559Z",
     "shell.execute_reply": "2024-02-20T08:06:48.789637Z"
    },
    "papermill": {
     "duration": 0.024476,
     "end_time": "2024-02-20T08:06:48.792136",
     "exception": false,
     "start_time": "2024-02-20T08:06:48.767660",
     "status": "completed"
    },
    "tags": []
   },
   "outputs": [
    {
     "data": {
      "text/plain": [
       "array([0, 0, 0, 0, 0, 0, 0, 0, 0, 0, 0, 0, 0, 0, 0, 0, 0, 0, 0, 0, 0, 0,\n",
       "       0, 0, 0, 0, 0, 0, 0, 0, 0, 0, 0, 0, 0, 0, 0, 0, 0, 0, 0, 0, 0, 0,\n",
       "       0, 0, 0, 0, 0, 0, 1, 1, 1, 1, 1, 1, 1, 1, 1, 1, 1, 1, 1, 1, 1, 1,\n",
       "       1, 1, 1, 1, 2, 1, 1, 1, 1, 1, 1, 2, 1, 1, 1, 1, 1, 1, 1, 1, 1, 1,\n",
       "       1, 1, 1, 1, 1, 1, 1, 1, 1, 1, 1, 1, 2, 2, 2, 2, 2, 2, 2, 2, 2, 2,\n",
       "       2, 2, 2, 2, 2, 2, 2, 2, 2, 1, 2, 2, 2, 2, 2, 2, 2, 2, 2, 1, 2, 2,\n",
       "       2, 1, 1, 2, 2, 2, 2, 2, 2, 2, 2, 2, 2, 2, 2, 2, 2, 2])"
      ]
     },
     "execution_count": 12,
     "metadata": {},
     "output_type": "execute_result"
    }
   ],
   "source": [
    "# for each sample(raw), find the column(class) that has the highest probability\n",
    "softmax_prediction=np.argmax(probability,axis=1)\n",
    "softmax_prediction"
   ]
  },
  {
   "cell_type": "markdown",
   "id": "49bf0940",
   "metadata": {
    "papermill": {
     "duration": 0.01496,
     "end_time": "2024-02-20T08:06:48.822650",
     "exception": false,
     "start_time": "2024-02-20T08:06:48.807690",
     "status": "completed"
    },
    "tags": []
   },
   "source": [
    "We can verify that sklearn does this under the hood by comparing it to the output of the method <code> predict  </code>.\n"
   ]
  },
  {
   "cell_type": "code",
   "execution_count": 13,
   "id": "3f1596ba",
   "metadata": {
    "execution": {
     "iopub.execute_input": "2024-02-20T08:06:48.854872Z",
     "iopub.status.busy": "2024-02-20T08:06:48.854530Z",
     "iopub.status.idle": "2024-02-20T08:06:48.861285Z",
     "shell.execute_reply": "2024-02-20T08:06:48.860665Z"
    },
    "papermill": {
     "duration": 0.024927,
     "end_time": "2024-02-20T08:06:48.862923",
     "exception": false,
     "start_time": "2024-02-20T08:06:48.837996",
     "status": "completed"
    },
    "tags": []
   },
   "outputs": [
    {
     "data": {
      "text/plain": [
       "1.0"
      ]
     },
     "execution_count": 13,
     "metadata": {},
     "output_type": "execute_result"
    }
   ],
   "source": [
    "yhat =lr.predict(X)\n",
    "accuracy_score(yhat,softmax_prediction)"
   ]
  },
  {
   "cell_type": "markdown",
   "id": "6e5f9409",
   "metadata": {
    "papermill": {
     "duration": 0.015048,
     "end_time": "2024-02-20T08:06:48.893426",
     "exception": false,
     "start_time": "2024-02-20T08:06:48.878378",
     "status": "completed"
    },
    "tags": []
   },
   "source": [
    "We can't use Softmax regression for SVMs, Let's explore two methods of Multi-class Classification that we can apply to SVM.\n"
   ]
  },
  {
   "cell_type": "markdown",
   "id": "ab572259",
   "metadata": {
    "papermill": {
     "duration": 0.015187,
     "end_time": "2024-02-20T08:06:48.923827",
     "exception": false,
     "start_time": "2024-02-20T08:06:48.908640",
     "status": "completed"
    },
    "tags": []
   },
   "source": [
    "## SVM \n"
   ]
  },
  {
   "cell_type": "markdown",
   "id": "6ad03314",
   "metadata": {
    "papermill": {
     "duration": 0.015532,
     "end_time": "2024-02-20T08:06:48.954692",
     "exception": false,
     "start_time": "2024-02-20T08:06:48.939160",
     "status": "completed"
    },
    "tags": []
   },
   "source": [
    "Sklean performs Multi-class Classification automatically, we can apply the method and calculate the accuracy. Train a SVM classifier with the `kernel` set to `linear`, `gamma` set to `0.5`, and the `probability` paramter set to `True`, then train the model using the `X` and `y` data.\n"
   ]
  },
  {
   "cell_type": "code",
   "execution_count": 14,
   "id": "8f2981df",
   "metadata": {
    "execution": {
     "iopub.execute_input": "2024-02-20T08:06:48.987374Z",
     "iopub.status.busy": "2024-02-20T08:06:48.986957Z",
     "iopub.status.idle": "2024-02-20T08:06:48.999533Z",
     "shell.execute_reply": "2024-02-20T08:06:48.998672Z"
    },
    "papermill": {
     "duration": 0.032075,
     "end_time": "2024-02-20T08:06:49.002222",
     "exception": false,
     "start_time": "2024-02-20T08:06:48.970147",
     "status": "completed"
    },
    "tags": []
   },
   "outputs": [
    {
     "data": {
      "text/html": [
       "<style>#sk-container-id-1 {color: black;background-color: white;}#sk-container-id-1 pre{padding: 0;}#sk-container-id-1 div.sk-toggleable {background-color: white;}#sk-container-id-1 label.sk-toggleable__label {cursor: pointer;display: block;width: 100%;margin-bottom: 0;padding: 0.3em;box-sizing: border-box;text-align: center;}#sk-container-id-1 label.sk-toggleable__label-arrow:before {content: \"▸\";float: left;margin-right: 0.25em;color: #696969;}#sk-container-id-1 label.sk-toggleable__label-arrow:hover:before {color: black;}#sk-container-id-1 div.sk-estimator:hover label.sk-toggleable__label-arrow:before {color: black;}#sk-container-id-1 div.sk-toggleable__content {max-height: 0;max-width: 0;overflow: hidden;text-align: left;background-color: #f0f8ff;}#sk-container-id-1 div.sk-toggleable__content pre {margin: 0.2em;color: black;border-radius: 0.25em;background-color: #f0f8ff;}#sk-container-id-1 input.sk-toggleable__control:checked~div.sk-toggleable__content {max-height: 200px;max-width: 100%;overflow: auto;}#sk-container-id-1 input.sk-toggleable__control:checked~label.sk-toggleable__label-arrow:before {content: \"▾\";}#sk-container-id-1 div.sk-estimator input.sk-toggleable__control:checked~label.sk-toggleable__label {background-color: #d4ebff;}#sk-container-id-1 div.sk-label input.sk-toggleable__control:checked~label.sk-toggleable__label {background-color: #d4ebff;}#sk-container-id-1 input.sk-hidden--visually {border: 0;clip: rect(1px 1px 1px 1px);clip: rect(1px, 1px, 1px, 1px);height: 1px;margin: -1px;overflow: hidden;padding: 0;position: absolute;width: 1px;}#sk-container-id-1 div.sk-estimator {font-family: monospace;background-color: #f0f8ff;border: 1px dotted black;border-radius: 0.25em;box-sizing: border-box;margin-bottom: 0.5em;}#sk-container-id-1 div.sk-estimator:hover {background-color: #d4ebff;}#sk-container-id-1 div.sk-parallel-item::after {content: \"\";width: 100%;border-bottom: 1px solid gray;flex-grow: 1;}#sk-container-id-1 div.sk-label:hover label.sk-toggleable__label {background-color: #d4ebff;}#sk-container-id-1 div.sk-serial::before {content: \"\";position: absolute;border-left: 1px solid gray;box-sizing: border-box;top: 0;bottom: 0;left: 50%;z-index: 0;}#sk-container-id-1 div.sk-serial {display: flex;flex-direction: column;align-items: center;background-color: white;padding-right: 0.2em;padding-left: 0.2em;position: relative;}#sk-container-id-1 div.sk-item {position: relative;z-index: 1;}#sk-container-id-1 div.sk-parallel {display: flex;align-items: stretch;justify-content: center;background-color: white;position: relative;}#sk-container-id-1 div.sk-item::before, #sk-container-id-1 div.sk-parallel-item::before {content: \"\";position: absolute;border-left: 1px solid gray;box-sizing: border-box;top: 0;bottom: 0;left: 50%;z-index: -1;}#sk-container-id-1 div.sk-parallel-item {display: flex;flex-direction: column;z-index: 1;position: relative;background-color: white;}#sk-container-id-1 div.sk-parallel-item:first-child::after {align-self: flex-end;width: 50%;}#sk-container-id-1 div.sk-parallel-item:last-child::after {align-self: flex-start;width: 50%;}#sk-container-id-1 div.sk-parallel-item:only-child::after {width: 0;}#sk-container-id-1 div.sk-dashed-wrapped {border: 1px dashed gray;margin: 0 0.4em 0.5em 0.4em;box-sizing: border-box;padding-bottom: 0.4em;background-color: white;}#sk-container-id-1 div.sk-label label {font-family: monospace;font-weight: bold;display: inline-block;line-height: 1.2em;}#sk-container-id-1 div.sk-label-container {text-align: center;}#sk-container-id-1 div.sk-container {/* jupyter's `normalize.less` sets `[hidden] { display: none; }` but bootstrap.min.css set `[hidden] { display: none !important; }` so we also need the `!important` here to be able to override the default hidden behavior on the sphinx rendered scikit-learn.org. See: https://github.com/scikit-learn/scikit-learn/issues/21755 */display: inline-block !important;position: relative;}#sk-container-id-1 div.sk-text-repr-fallback {display: none;}</style><div id=\"sk-container-id-1\" class=\"sk-top-container\"><div class=\"sk-text-repr-fallback\"><pre>SVC(gamma=0.5, kernel=&#x27;linear&#x27;, probability=True)</pre><b>In a Jupyter environment, please rerun this cell to show the HTML representation or trust the notebook. <br />On GitHub, the HTML representation is unable to render, please try loading this page with nbviewer.org.</b></div><div class=\"sk-container\" hidden><div class=\"sk-item\"><div class=\"sk-estimator sk-toggleable\"><input class=\"sk-toggleable__control sk-hidden--visually\" id=\"sk-estimator-id-1\" type=\"checkbox\" checked><label for=\"sk-estimator-id-1\" class=\"sk-toggleable__label sk-toggleable__label-arrow\">SVC</label><div class=\"sk-toggleable__content\"><pre>SVC(gamma=0.5, kernel=&#x27;linear&#x27;, probability=True)</pre></div></div></div></div></div>"
      ],
      "text/plain": [
       "SVC(gamma=0.5, kernel='linear', probability=True)"
      ]
     },
     "execution_count": 14,
     "metadata": {},
     "output_type": "execute_result"
    }
   ],
   "source": [
    "model = SVC(kernel='linear', gamma=.5, probability=True)\n",
    "\n",
    "model.fit(X,y)"
   ]
  },
  {
   "cell_type": "markdown",
   "id": "06840812",
   "metadata": {
    "papermill": {
     "duration": 0.016603,
     "end_time": "2024-02-20T08:06:49.037969",
     "exception": false,
     "start_time": "2024-02-20T08:06:49.021366",
     "status": "completed"
    },
    "tags": []
   },
   "source": [
    "Find the `accuracy_score` on the training data.\n"
   ]
  },
  {
   "cell_type": "code",
   "execution_count": 15,
   "id": "85ac98e5",
   "metadata": {
    "execution": {
     "iopub.execute_input": "2024-02-20T08:06:49.072428Z",
     "iopub.status.busy": "2024-02-20T08:06:49.072085Z",
     "iopub.status.idle": "2024-02-20T08:06:49.079846Z",
     "shell.execute_reply": "2024-02-20T08:06:49.078868Z"
    },
    "papermill": {
     "duration": 0.027411,
     "end_time": "2024-02-20T08:06:49.081917",
     "exception": false,
     "start_time": "2024-02-20T08:06:49.054506",
     "status": "completed"
    },
    "tags": []
   },
   "outputs": [
    {
     "data": {
      "text/plain": [
       "0.96"
      ]
     },
     "execution_count": 15,
     "metadata": {},
     "output_type": "execute_result"
    }
   ],
   "source": [
    "yhat = model.predict(X)\n",
    "\n",
    "accuracy_score(y,yhat)"
   ]
  },
  {
   "cell_type": "markdown",
   "id": "e7e6cf30",
   "metadata": {
    "papermill": {
     "duration": 0.015694,
     "end_time": "2024-02-20T08:06:49.114564",
     "exception": false,
     "start_time": "2024-02-20T08:06:49.098870",
     "status": "completed"
    },
    "tags": []
   },
   "source": [
    "We can plot the decision_boundary.\n"
   ]
  },
  {
   "cell_type": "code",
   "execution_count": 16,
   "id": "7875e04a",
   "metadata": {
    "execution": {
     "iopub.execute_input": "2024-02-20T08:06:49.149520Z",
     "iopub.status.busy": "2024-02-20T08:06:49.149132Z",
     "iopub.status.idle": "2024-02-20T08:06:49.465048Z",
     "shell.execute_reply": "2024-02-20T08:06:49.464062Z"
    },
    "papermill": {
     "duration": 0.336104,
     "end_time": "2024-02-20T08:06:49.466865",
     "exception": false,
     "start_time": "2024-02-20T08:06:49.130761",
     "status": "completed"
    },
    "tags": []
   },
   "outputs": [
    {
     "name": "stderr",
     "output_type": "stream",
     "text": [
      "/tmp/ipykernel_18/723986224.py:26: UserWarning: No data for colormapping provided via 'c'. Parameters 'cmap' will be ignored\n",
      "  plt.scatter(X[idx, 0], X[idx, 1], c=color, label=iris.target_names[i],\n"
     ]
    },
    {
     "data": {
      "image/png": "[encoded data removed]",
      "text/plain": [
       "<Figure size 800x600 with 1 Axes>"
      ]
     },
     "metadata": {},
     "output_type": "display_data"
    }
   ],
   "source": [
    "decision_boundary(X,y,model)"
   ]
  },
  {
   "cell_type": "markdown",
   "id": "740f8e33",
   "metadata": {
    "papermill": {
     "duration": 0.015966,
     "end_time": "2024-02-20T08:06:49.499258",
     "exception": false,
     "start_time": "2024-02-20T08:06:49.483292",
     "status": "completed"
    },
    "tags": []
   },
   "source": [
    "Let's implement One vs. All and One vs One:\n"
   ]
  },
  {
   "cell_type": "markdown",
   "id": "6a721c23",
   "metadata": {
    "papermill": {
     "duration": 0.016379,
     "end_time": "2024-02-20T08:06:49.532814",
     "exception": false,
     "start_time": "2024-02-20T08:06:49.516435",
     "status": "completed"
    },
    "tags": []
   },
   "source": [
    "## One vs. All (One-vs-Rest) \n"
   ]
  },
  {
   "cell_type": "markdown",
   "id": "0ed1d38c",
   "metadata": {
    "papermill": {
     "duration": 0.018601,
     "end_time": "2024-02-20T08:06:49.568451",
     "exception": false,
     "start_time": "2024-02-20T08:06:49.549850",
     "status": "completed"
    },
    "tags": []
   },
   "source": [
    "For one-vs-all classification, if we have K classes, we use K two-class classifier models. The number of class labels present in the dataset is equal to the number of generated classifiers. First, we create an artificial class we will call this \"dummy\" class. For each classifier, we split the data into two classes. We take the class samples we would like to classify, the rest of the samples will be labelled as a dummy class. We repeat the process for each class. To make a  classification, we use the classifier with the highest probability, disregarding the dummy class.\n"
   ]
  },
  {
   "cell_type": "markdown",
   "id": "80c9ea61",
   "metadata": {
    "papermill": {
     "duration": 0.01719,
     "end_time": "2024-02-20T08:06:49.602188",
     "exception": false,
     "start_time": "2024-02-20T08:06:49.584998",
     "status": "completed"
    },
    "tags": []
   },
   "source": [
    "### Train Each Classifier\n"
   ]
  },
  {
   "cell_type": "markdown",
   "id": "c77b2262",
   "metadata": {
    "papermill": {
     "duration": 0.016645,
     "end_time": "2024-02-20T08:06:49.636092",
     "exception": false,
     "start_time": "2024-02-20T08:06:49.619447",
     "status": "completed"
    },
    "tags": []
   },
   "source": [
    "Here, we train three classifiers and place them in the list <code>my_models</code>. For each class we take the class samples we would like to classify, and the rest will be labelled as a dummy class. We repeat the process for each class. For each classifier, we plot the decision regions. The class we are interested in is in red, and the dummy class is in blue. Similarly, the class samples are marked in blue, and the dummy samples are marked with a black x. \n"
   ]
  },
  {
   "cell_type": "code",
   "execution_count": 17,
   "id": "501d222e",
   "metadata": {
    "execution": {
     "iopub.execute_input": "2024-02-20T08:06:49.672442Z",
     "iopub.status.busy": "2024-02-20T08:06:49.672125Z",
     "iopub.status.idle": "2024-02-20T08:06:50.430496Z",
     "shell.execute_reply": "2024-02-20T08:06:50.428814Z"
    },
    "papermill": {
     "duration": 0.778388,
     "end_time": "2024-02-20T08:06:50.432315",
     "exception": false,
     "start_time": "2024-02-20T08:06:49.653927",
     "status": "completed"
    },
    "tags": []
   },
   "outputs": [
    {
     "name": "stderr",
     "output_type": "stream",
     "text": [
      "/tmp/ipykernel_18/723986224.py:26: UserWarning: No data for colormapping provided via 'c'. Parameters 'cmap' will be ignored\n",
      "  plt.scatter(X[idx, 0], X[idx, 1], c=color, label=iris.target_names[i],\n"
     ]
    },
    {
     "data": {
      "image/png": "[encoded data removed]",
      "text/plain": [
       "<Figure size 800x600 with 1 Axes>"
      ]
     },
     "metadata": {},
     "output_type": "display_data"
    },
    {
     "name": "stderr",
     "output_type": "stream",
     "text": [
      "/tmp/ipykernel_18/723986224.py:26: UserWarning: No data for colormapping provided via 'c'. Parameters 'cmap' will be ignored\n",
      "  plt.scatter(X[idx, 0], X[idx, 1], c=color, label=iris.target_names[i],\n"
     ]
    },
    {
     "data": {
      "image/png": "[encoded data removed]",
      "text/plain": [
       "<Figure size 800x600 with 1 Axes>"
      ]
     },
     "metadata": {},
     "output_type": "display_data"
    },
    {
     "name": "stderr",
     "output_type": "stream",
     "text": [
      "/tmp/ipykernel_18/723986224.py:26: UserWarning: No data for colormapping provided via 'c'. Parameters 'cmap' will be ignored\n",
      "  plt.scatter(X[idx, 0], X[idx, 1], c=color, label=iris.target_names[i],\n"
     ]
    },
    {
     "data": {
      "image/png": "[encoded data removed]",
      "text/plain": [
       "<Figure size 800x600 with 1 Axes>"
      ]
     },
     "metadata": {},
     "output_type": "display_data"
    }
   ],
   "source": [
    "# initialize list to store classifiers\n",
    "my_models = []\n",
    "\n",
    "# iterate through each unique class label in y\n",
    "for class_ in np.unique(y):\n",
    "    # create binary labels: 1 for the current class, 0 for all other classes\n",
    "    temp_y = (y == class_).astype(int)\n",
    "    \n",
    "    # initialize the SVM model with a linear kernel\n",
    "    model = SVC(kernel='linear', probability=True)\n",
    "    \n",
    "    # train the model on the data\n",
    "    model.fit(X, temp_y)\n",
    "    \n",
    "    # add the trained model to the list of classifiers\n",
    "    my_models.append(model)\n",
    "    \n",
    "    decision_boundary(X, temp_y, model)"
   ]
  },
  {
   "cell_type": "markdown",
   "id": "ec1575c3",
   "metadata": {
    "papermill": {
     "duration": 0.017975,
     "end_time": "2024-02-20T08:06:50.469345",
     "exception": false,
     "start_time": "2024-02-20T08:06:50.451370",
     "status": "completed"
    },
    "tags": []
   },
   "source": [
    " For each sample we calculate the  probability of belonging to each class, not including the dummy class.\n"
   ]
  },
  {
   "cell_type": "code",
   "execution_count": 18,
   "id": "2c5aa259",
   "metadata": {
    "execution": {
     "iopub.execute_input": "2024-02-20T08:06:50.507714Z",
     "iopub.status.busy": "2024-02-20T08:06:50.507324Z",
     "iopub.status.idle": "2024-02-20T08:06:50.515819Z",
     "shell.execute_reply": "2024-02-20T08:06:50.514448Z"
    },
    "papermill": {
     "duration": 0.030563,
     "end_time": "2024-02-20T08:06:50.518214",
     "exception": false,
     "start_time": "2024-02-20T08:06:50.487651",
     "status": "completed"
    },
    "tags": []
   },
   "outputs": [],
   "source": [
    "probability_array=np.zeros((X.shape[0],3))\n",
    "for j,model in enumerate(my_models):\n",
    "\n",
    "    real_class=np.where(np.array(model.classes_)!=3)[0]\n",
    "\n",
    "    probability_array[:,j]=model.predict_proba(X)[:,real_class][:,0]"
   ]
  },
  {
   "cell_type": "markdown",
   "id": "4fa4eeb1",
   "metadata": {
    "papermill": {
     "duration": 0.018876,
     "end_time": "2024-02-20T08:06:50.555845",
     "exception": false,
     "start_time": "2024-02-20T08:06:50.536969",
     "status": "completed"
    },
    "tags": []
   },
   "source": [
    "Here, is the probability of belonging to each class for the first sample.\n"
   ]
  },
  {
   "cell_type": "code",
   "execution_count": 19,
   "id": "ed80f12c",
   "metadata": {
    "execution": {
     "iopub.execute_input": "2024-02-20T08:06:50.593544Z",
     "iopub.status.busy": "2024-02-20T08:06:50.593001Z",
     "iopub.status.idle": "2024-02-20T08:06:50.599532Z",
     "shell.execute_reply": "2024-02-20T08:06:50.598534Z"
    },
    "papermill": {
     "duration": 0.026996,
     "end_time": "2024-02-20T08:06:50.601117",
     "exception": false,
     "start_time": "2024-02-20T08:06:50.574121",
     "status": "completed"
    },
    "tags": []
   },
   "outputs": [
    {
     "data": {
      "text/plain": [
       "array([0.00911131, 0.88816363, 0.99999827])"
      ]
     },
     "execution_count": 19,
     "metadata": {},
     "output_type": "execute_result"
    }
   ],
   "source": [
    "probability_array[0,:]"
   ]
  },
  {
   "cell_type": "markdown",
   "id": "65dec011",
   "metadata": {
    "papermill": {
     "duration": 0.02736,
     "end_time": "2024-02-20T08:06:50.646840",
     "exception": false,
     "start_time": "2024-02-20T08:06:50.619480",
     "status": "completed"
    },
    "tags": []
   },
   "source": [
    "As each is the probability of belonging to the actual class and not the dummy class, it does not sum to one. \n"
   ]
  },
  {
   "cell_type": "code",
   "execution_count": 20,
   "id": "dcae510f",
   "metadata": {
    "execution": {
     "iopub.execute_input": "2024-02-20T08:06:50.698230Z",
     "iopub.status.busy": "2024-02-20T08:06:50.697878Z",
     "iopub.status.idle": "2024-02-20T08:06:50.702988Z",
     "shell.execute_reply": "2024-02-20T08:06:50.702399Z"
    },
    "papermill": {
     "duration": 0.032344,
     "end_time": "2024-02-20T08:06:50.704742",
     "exception": false,
     "start_time": "2024-02-20T08:06:50.672398",
     "status": "completed"
    },
    "tags": []
   },
   "outputs": [
    {
     "data": {
      "text/plain": [
       "1.8972732129656302"
      ]
     },
     "execution_count": 20,
     "metadata": {},
     "output_type": "execute_result"
    }
   ],
   "source": [
    "probability_array[0,:].sum()"
   ]
  },
  {
   "cell_type": "markdown",
   "id": "c953cfdf",
   "metadata": {
    "papermill": {
     "duration": 0.019989,
     "end_time": "2024-02-20T08:06:50.749208",
     "exception": false,
     "start_time": "2024-02-20T08:06:50.729219",
     "status": "completed"
    },
    "tags": []
   },
   "source": [
    "We can plot the probability of belonging to the class. The row number is the sample number.\n"
   ]
  },
  {
   "cell_type": "code",
   "execution_count": 21,
   "id": "0b177b29",
   "metadata": {
    "execution": {
     "iopub.execute_input": "2024-02-20T08:06:50.789078Z",
     "iopub.status.busy": "2024-02-20T08:06:50.788731Z",
     "iopub.status.idle": "2024-02-20T08:06:50.982529Z",
     "shell.execute_reply": "2024-02-20T08:06:50.981792Z"
    },
    "papermill": {
     "duration": 0.215357,
     "end_time": "2024-02-20T08:06:50.984802",
     "exception": false,
     "start_time": "2024-02-20T08:06:50.769445",
     "status": "completed"
    },
    "tags": []
   },
   "outputs": [
    {
     "data": {
      "image/png": "[encoded data removed]",
      "text/plain": [
       "<Figure size 640x480 with 2 Axes>"
      ]
     },
     "metadata": {},
     "output_type": "display_data"
    }
   ],
   "source": [
    "plot_probability_array(X,probability_array)"
   ]
  },
  {
   "cell_type": "markdown",
   "id": "369d9de3",
   "metadata": {
    "papermill": {
     "duration": 0.020794,
     "end_time": "2024-02-20T08:06:51.024914",
     "exception": false,
     "start_time": "2024-02-20T08:06:51.004120",
     "status": "completed"
    },
    "tags": []
   },
   "source": [
    "We can apply the $argmax$ function to each sample to find the class.\n"
   ]
  },
  {
   "cell_type": "code",
   "execution_count": 22,
   "id": "e972e8f4",
   "metadata": {
    "execution": {
     "iopub.execute_input": "2024-02-20T08:06:51.066223Z",
     "iopub.status.busy": "2024-02-20T08:06:51.065906Z",
     "iopub.status.idle": "2024-02-20T08:06:51.071763Z",
     "shell.execute_reply": "2024-02-20T08:06:51.070972Z"
    },
    "papermill": {
     "duration": 0.029724,
     "end_time": "2024-02-20T08:06:51.074027",
     "exception": false,
     "start_time": "2024-02-20T08:06:51.044303",
     "status": "completed"
    },
    "tags": []
   },
   "outputs": [
    {
     "data": {
      "text/plain": [
       "array([2, 2, 2, 2, 2, 2, 2, 2, 2, 2, 2, 2, 2, 2, 2, 2, 2, 2, 2, 2, 2, 2,\n",
       "       2, 2, 2, 2, 2, 2, 2, 2, 2, 2, 2, 2, 2, 2, 2, 2, 2, 2, 2, 2, 2, 2,\n",
       "       2, 2, 2, 2, 2, 2, 0, 0, 0, 0, 0, 0, 0, 2, 0, 0, 2, 0, 2, 0, 0, 0,\n",
       "       0, 2, 0, 2, 0, 0, 0, 2, 0, 0, 0, 0, 0, 2, 2, 2, 2, 0, 0, 0, 0, 0,\n",
       "       2, 0, 0, 0, 0, 2, 0, 2, 0, 0, 2, 0, 0, 0, 0, 0, 0, 0, 0, 0, 0, 0,\n",
       "       0, 0, 0, 0, 0, 0, 0, 0, 0, 0, 0, 0, 0, 0, 0, 0, 0, 0, 0, 0, 0, 0,\n",
       "       0, 0, 0, 0, 0, 0, 0, 0, 0, 0, 0, 0, 0, 0, 0, 0, 0, 0])"
      ]
     },
     "execution_count": 22,
     "metadata": {},
     "output_type": "execute_result"
    }
   ],
   "source": [
    "one_vs_all=np.argmax(probability_array,axis=1)\n",
    "one_vs_all"
   ]
  },
  {
   "cell_type": "markdown",
   "id": "190490b4",
   "metadata": {
    "papermill": {
     "duration": 0.018465,
     "end_time": "2024-02-20T08:06:51.111490",
     "exception": false,
     "start_time": "2024-02-20T08:06:51.093025",
     "status": "completed"
    },
    "tags": []
   },
   "source": [
    "We can calculate the accuracy. \n"
   ]
  },
  {
   "cell_type": "code",
   "execution_count": 23,
   "id": "2225ac08",
   "metadata": {
    "execution": {
     "iopub.execute_input": "2024-02-20T08:06:51.153630Z",
     "iopub.status.busy": "2024-02-20T08:06:51.152427Z",
     "iopub.status.idle": "2024-02-20T08:06:51.159243Z",
     "shell.execute_reply": "2024-02-20T08:06:51.158532Z"
    },
    "papermill": {
     "duration": 0.029119,
     "end_time": "2024-02-20T08:06:51.160977",
     "exception": false,
     "start_time": "2024-02-20T08:06:51.131858",
     "status": "completed"
    },
    "tags": []
   },
   "outputs": [
    {
     "data": {
      "text/plain": [
       "0.0"
      ]
     },
     "execution_count": 23,
     "metadata": {},
     "output_type": "execute_result"
    }
   ],
   "source": [
    "accuracy_score(y,one_vs_all)"
   ]
  },
  {
   "cell_type": "markdown",
   "id": "51b4b05c",
   "metadata": {
    "papermill": {
     "duration": 0.018642,
     "end_time": "2024-02-20T08:06:51.198708",
     "exception": false,
     "start_time": "2024-02-20T08:06:51.180066",
     "status": "completed"
    },
    "tags": []
   },
   "source": [
    "We see the accuracy is less than the one obtained by sklearn, and this is because for SVM, sklearn uses one vs one; let's verify it by comparing the outputs. \n"
   ]
  },
  {
   "cell_type": "code",
   "execution_count": 24,
   "id": "3c43b894",
   "metadata": {
    "execution": {
     "iopub.execute_input": "2024-02-20T08:06:51.240107Z",
     "iopub.status.busy": "2024-02-20T08:06:51.239119Z",
     "iopub.status.idle": "2024-02-20T08:06:51.245671Z",
     "shell.execute_reply": "2024-02-20T08:06:51.244976Z"
    },
    "papermill": {
     "duration": 0.029851,
     "end_time": "2024-02-20T08:06:51.247488",
     "exception": false,
     "start_time": "2024-02-20T08:06:51.217637",
     "status": "completed"
    },
    "tags": []
   },
   "outputs": [
    {
     "data": {
      "text/plain": [
       "0.0"
      ]
     },
     "execution_count": 24,
     "metadata": {},
     "output_type": "execute_result"
    }
   ],
   "source": [
    "accuracy_score(one_vs_all,yhat)"
   ]
  },
  {
   "cell_type": "markdown",
   "id": "0b621461",
   "metadata": {
    "papermill": {
     "duration": 0.018749,
     "end_time": "2024-02-20T08:06:51.285750",
     "exception": false,
     "start_time": "2024-02-20T08:06:51.267001",
     "status": "completed"
    },
    "tags": []
   },
   "source": [
    "We see that the outputs are different, now lets implement one vs one.\n"
   ]
  },
  {
   "cell_type": "markdown",
   "id": "9bfd4867",
   "metadata": {
    "papermill": {
     "duration": 0.019143,
     "end_time": "2024-02-20T08:06:51.324100",
     "exception": false,
     "start_time": "2024-02-20T08:06:51.304957",
     "status": "completed"
    },
    "tags": []
   },
   "source": [
    "## One vs One \n"
   ]
  },
  {
   "cell_type": "markdown",
   "id": "44c3f355",
   "metadata": {
    "papermill": {
     "duration": 0.025453,
     "end_time": "2024-02-20T08:06:51.368980",
     "exception": false,
     "start_time": "2024-02-20T08:06:51.343527",
     "status": "completed"
    },
    "tags": []
   },
   "source": [
    "\n",
    "In One-vs-One classification, we split up the data into each class, and then train a two-class classifier on each pair of classes. For example, if we have class 0,1,2, we would train one classifier on the samples that are class 0 and class 1, a second classifier on samples that are of class 0 and class 2, and a final classifier on samples of class 1 and class 2.\n",
    "\n",
    "For $K$ classes, we have to train $K(K-1)/2$ classifiers. So, if $K=3$, we have $(3x2)/2=3 $classes.\n",
    "\n",
    "To perform classification on a sample, we perform a majority vote and select the class with the most predictions. \n"
   ]
  },
  {
   "cell_type": "markdown",
   "id": "bbcb6140",
   "metadata": {
    "papermill": {
     "duration": 0.022963,
     "end_time": "2024-02-20T08:06:51.417670",
     "exception": false,
     "start_time": "2024-02-20T08:06:51.394707",
     "status": "completed"
    },
    "tags": []
   },
   "source": [
    "Here, we list each class.\n"
   ]
  },
  {
   "cell_type": "code",
   "execution_count": 25,
   "id": "0387612f",
   "metadata": {
    "execution": {
     "iopub.execute_input": "2024-02-20T08:06:51.471402Z",
     "iopub.status.busy": "2024-02-20T08:06:51.470792Z",
     "iopub.status.idle": "2024-02-20T08:06:51.477171Z",
     "shell.execute_reply": "2024-02-20T08:06:51.476471Z"
    },
    "papermill": {
     "duration": 0.034165,
     "end_time": "2024-02-20T08:06:51.479382",
     "exception": false,
     "start_time": "2024-02-20T08:06:51.445217",
     "status": "completed"
    },
    "tags": []
   },
   "outputs": [
    {
     "data": {
      "text/plain": [
       "{0, 1, 2}"
      ]
     },
     "execution_count": 25,
     "metadata": {},
     "output_type": "execute_result"
    }
   ],
   "source": [
    "classes_=set(np.unique(y))\n",
    "classes_\n",
    "   "
   ]
  },
  {
   "cell_type": "markdown",
   "id": "35873dfd",
   "metadata": {
    "papermill": {
     "duration": 0.019345,
     "end_time": "2024-02-20T08:06:51.519677",
     "exception": false,
     "start_time": "2024-02-20T08:06:51.500332",
     "status": "completed"
    },
    "tags": []
   },
   "source": [
    "Determine the number of classifiers:\n"
   ]
  },
  {
   "cell_type": "code",
   "execution_count": 26,
   "id": "9c7a856a",
   "metadata": {
    "execution": {
     "iopub.execute_input": "2024-02-20T08:06:51.568074Z",
     "iopub.status.busy": "2024-02-20T08:06:51.567430Z",
     "iopub.status.idle": "2024-02-20T08:06:51.573135Z",
     "shell.execute_reply": "2024-02-20T08:06:51.572497Z"
    },
    "papermill": {
     "duration": 0.031949,
     "end_time": "2024-02-20T08:06:51.574812",
     "exception": false,
     "start_time": "2024-02-20T08:06:51.542863",
     "status": "completed"
    },
    "tags": []
   },
   "outputs": [
    {
     "data": {
      "text/plain": [
       "3.0"
      ]
     },
     "execution_count": 26,
     "metadata": {},
     "output_type": "execute_result"
    }
   ],
   "source": [
    "K=len(classes_)\n",
    "K*(K-1)/2"
   ]
  },
  {
   "cell_type": "markdown",
   "id": "4e8b6af5",
   "metadata": {
    "papermill": {
     "duration": 0.021777,
     "end_time": "2024-02-20T08:06:51.616224",
     "exception": false,
     "start_time": "2024-02-20T08:06:51.594447",
     "status": "completed"
    },
    "tags": []
   },
   "source": [
    "We then train a two-class classifier on each pair of classes. We plot the different training points for each of the two classes. \n"
   ]
  },
  {
   "cell_type": "code",
   "execution_count": 27,
   "id": "d76f5642",
   "metadata": {
    "execution": {
     "iopub.execute_input": "2024-02-20T08:06:51.657798Z",
     "iopub.status.busy": "2024-02-20T08:06:51.657208Z",
     "iopub.status.idle": "2024-02-20T08:06:52.348954Z",
     "shell.execute_reply": "2024-02-20T08:06:52.347929Z"
    },
    "papermill": {
     "duration": 0.71478,
     "end_time": "2024-02-20T08:06:52.350981",
     "exception": false,
     "start_time": "2024-02-20T08:06:51.636201",
     "status": "completed"
    },
    "tags": []
   },
   "outputs": [
    {
     "name": "stdout",
     "output_type": "stream",
     "text": [
      "class 0 vs class 1 \n"
     ]
    },
    {
     "name": "stderr",
     "output_type": "stream",
     "text": [
      "/tmp/ipykernel_18/723986224.py:26: UserWarning: No data for colormapping provided via 'c'. Parameters 'cmap' will be ignored\n",
      "  plt.scatter(X[idx, 0], X[idx, 1], c=color, label=iris.target_names[i],\n"
     ]
    },
    {
     "data": {
      "image/png": "[encoded data removed]",
      "text/plain": [
       "<Figure size 800x600 with 1 Axes>"
      ]
     },
     "metadata": {},
     "output_type": "display_data"
    },
    {
     "name": "stdout",
     "output_type": "stream",
     "text": [
      "class 0 vs class 2 \n"
     ]
    },
    {
     "name": "stderr",
     "output_type": "stream",
     "text": [
      "/tmp/ipykernel_18/723986224.py:26: UserWarning: No data for colormapping provided via 'c'. Parameters 'cmap' will be ignored\n",
      "  plt.scatter(X[idx, 0], X[idx, 1], c=color, label=iris.target_names[i],\n"
     ]
    },
    {
     "data": {
      "image/png": "[encoded data removed]",
      "text/plain": [
       "<Figure size 800x600 with 1 Axes>"
      ]
     },
     "metadata": {},
     "output_type": "display_data"
    },
    {
     "name": "stdout",
     "output_type": "stream",
     "text": [
      "class 1 vs class 2 \n"
     ]
    },
    {
     "name": "stderr",
     "output_type": "stream",
     "text": [
      "/tmp/ipykernel_18/723986224.py:26: UserWarning: No data for colormapping provided via 'c'. Parameters 'cmap' will be ignored\n",
      "  plt.scatter(X[idx, 0], X[idx, 1], c=color, label=iris.target_names[i],\n"
     ]
    },
    {
     "data": {
      "image/png": "[encoded data removed]",
      "text/plain": [
       "<Figure size 800x600 with 1 Axes>"
      ]
     },
     "metadata": {},
     "output_type": "display_data"
    }
   ],
   "source": [
    "pairs=[]\n",
    "left_overs=classes_.copy()\n",
    "#list used for classifiers \n",
    "my_models=[]\n",
    "#iterate through each class\n",
    "for class_ in classes_:\n",
    "    #remove class we have seen before \n",
    "    left_overs.remove(class_)\n",
    "    #the second class in the pair\n",
    "    for second_class in left_overs:\n",
    "        pairs.append(str(class_)+' and '+str(second_class))\n",
    "        print(\"class {} vs class {} \".format(class_,second_class) )\n",
    "        temp_y=np.zeros(y.shape)\n",
    "        #find classes in pair \n",
    "        select=np.logical_or(y==class_ , y==second_class)\n",
    "        #train model \n",
    "        model=SVC(kernel='linear', gamma=.5, probability=True)  \n",
    "        model.fit(X[select,:],y[select])\n",
    "        my_models.append(model)\n",
    "        #Plot decision boundary for each pair and corresponding Training samples. \n",
    "        decision_boundary (X[select,:],y[select],model)\n",
    "   \n",
    "        \n",
    "    "
   ]
  },
  {
   "cell_type": "code",
   "execution_count": 28,
   "id": "4c690ac5",
   "metadata": {
    "execution": {
     "iopub.execute_input": "2024-02-20T08:06:52.397248Z",
     "iopub.status.busy": "2024-02-20T08:06:52.396646Z",
     "iopub.status.idle": "2024-02-20T08:06:52.402009Z",
     "shell.execute_reply": "2024-02-20T08:06:52.400936Z"
    },
    "papermill": {
     "duration": 0.031106,
     "end_time": "2024-02-20T08:06:52.403680",
     "exception": false,
     "start_time": "2024-02-20T08:06:52.372574",
     "status": "completed"
    },
    "tags": []
   },
   "outputs": [
    {
     "data": {
      "text/plain": [
       "['0 and 1', '0 and 2', '1 and 2']"
      ]
     },
     "execution_count": 28,
     "metadata": {},
     "output_type": "execute_result"
    }
   ],
   "source": [
    "pairs"
   ]
  },
  {
   "cell_type": "markdown",
   "id": "d54fffd1",
   "metadata": {
    "papermill": {
     "duration": 0.020964,
     "end_time": "2024-02-20T08:06:52.445747",
     "exception": false,
     "start_time": "2024-02-20T08:06:52.424783",
     "status": "completed"
    },
    "tags": []
   },
   "source": [
    "As we can see, our data is left-skewed, containing more \"5\" star reviews. \n"
   ]
  },
  {
   "cell_type": "markdown",
   "id": "8806ac84",
   "metadata": {
    "papermill": {
     "duration": 0.020688,
     "end_time": "2024-02-20T08:06:52.487577",
     "exception": false,
     "start_time": "2024-02-20T08:06:52.466889",
     "status": "completed"
    },
    "tags": []
   },
   "source": [
    "Here, we are plotting the distribution of text length.\n"
   ]
  },
  {
   "cell_type": "code",
   "execution_count": 29,
   "id": "212ec5ab",
   "metadata": {
    "execution": {
     "iopub.execute_input": "2024-02-20T08:06:52.531705Z",
     "iopub.status.busy": "2024-02-20T08:06:52.530901Z",
     "iopub.status.idle": "2024-02-20T08:06:52.537525Z",
     "shell.execute_reply": "2024-02-20T08:06:52.536711Z"
    },
    "papermill": {
     "duration": 0.030445,
     "end_time": "2024-02-20T08:06:52.539301",
     "exception": false,
     "start_time": "2024-02-20T08:06:52.508856",
     "status": "completed"
    },
    "tags": []
   },
   "outputs": [],
   "source": [
    "pairs\n",
    "majority_vote_array=np.zeros((X.shape[0],3))\n",
    "majority_vote_dict={}\n",
    "for j,(model,pair) in enumerate(zip(my_models,pairs)):\n",
    "\n",
    "    majority_vote_dict[pair]=model.predict(X)\n",
    "    majority_vote_array[:,j]=model.predict(X)"
   ]
  },
  {
   "cell_type": "markdown",
   "id": "e3e97fe2",
   "metadata": {
    "papermill": {
     "duration": 0.020426,
     "end_time": "2024-02-20T08:06:52.580568",
     "exception": false,
     "start_time": "2024-02-20T08:06:52.560142",
     "status": "completed"
    },
    "tags": []
   },
   "source": [
    "In the following table, each column is the output of a classifier for each pair of classes and the output is the prediction:\n"
   ]
  },
  {
   "cell_type": "code",
   "execution_count": 30,
   "id": "491c808b",
   "metadata": {
    "execution": {
     "iopub.execute_input": "2024-02-20T08:06:52.626442Z",
     "iopub.status.busy": "2024-02-20T08:06:52.626104Z",
     "iopub.status.idle": "2024-02-20T08:06:52.641594Z",
     "shell.execute_reply": "2024-02-20T08:06:52.640962Z"
    },
    "papermill": {
     "duration": 0.041175,
     "end_time": "2024-02-20T08:06:52.643182",
     "exception": false,
     "start_time": "2024-02-20T08:06:52.602007",
     "status": "completed"
    },
    "tags": []
   },
   "outputs": [
    {
     "data": {
      "text/html": [
       "<div>\n",
       "<style scoped>\n",
       "    .dataframe tbody tr th:only-of-type {\n",
       "        vertical-align: middle;\n",
       "    }\n",
       "\n",
       "    .dataframe tbody tr th {\n",
       "        vertical-align: top;\n",
       "    }\n",
       "\n",
       "    .dataframe thead th {\n",
       "        text-align: right;\n",
       "    }\n",
       "</style>\n",
       "<table border=\"1\" class=\"dataframe\">\n",
       "  <thead>\n",
       "    <tr style=\"text-align: right;\">\n",
       "      <th></th>\n",
       "      <th>0 and 1</th>\n",
       "      <th>0 and 2</th>\n",
       "      <th>1 and 2</th>\n",
       "    </tr>\n",
       "  </thead>\n",
       "  <tbody>\n",
       "    <tr>\n",
       "      <th>0</th>\n",
       "      <td>0</td>\n",
       "      <td>0</td>\n",
       "      <td>1</td>\n",
       "    </tr>\n",
       "    <tr>\n",
       "      <th>1</th>\n",
       "      <td>0</td>\n",
       "      <td>0</td>\n",
       "      <td>1</td>\n",
       "    </tr>\n",
       "    <tr>\n",
       "      <th>2</th>\n",
       "      <td>0</td>\n",
       "      <td>0</td>\n",
       "      <td>1</td>\n",
       "    </tr>\n",
       "    <tr>\n",
       "      <th>3</th>\n",
       "      <td>0</td>\n",
       "      <td>0</td>\n",
       "      <td>1</td>\n",
       "    </tr>\n",
       "    <tr>\n",
       "      <th>4</th>\n",
       "      <td>0</td>\n",
       "      <td>0</td>\n",
       "      <td>1</td>\n",
       "    </tr>\n",
       "    <tr>\n",
       "      <th>5</th>\n",
       "      <td>0</td>\n",
       "      <td>0</td>\n",
       "      <td>1</td>\n",
       "    </tr>\n",
       "    <tr>\n",
       "      <th>6</th>\n",
       "      <td>0</td>\n",
       "      <td>0</td>\n",
       "      <td>1</td>\n",
       "    </tr>\n",
       "    <tr>\n",
       "      <th>7</th>\n",
       "      <td>0</td>\n",
       "      <td>0</td>\n",
       "      <td>1</td>\n",
       "    </tr>\n",
       "    <tr>\n",
       "      <th>8</th>\n",
       "      <td>0</td>\n",
       "      <td>0</td>\n",
       "      <td>1</td>\n",
       "    </tr>\n",
       "    <tr>\n",
       "      <th>9</th>\n",
       "      <td>0</td>\n",
       "      <td>0</td>\n",
       "      <td>1</td>\n",
       "    </tr>\n",
       "  </tbody>\n",
       "</table>\n",
       "</div>"
      ],
      "text/plain": [
       "   0 and 1  0 and 2  1 and 2\n",
       "0        0        0        1\n",
       "1        0        0        1\n",
       "2        0        0        1\n",
       "3        0        0        1\n",
       "4        0        0        1\n",
       "5        0        0        1\n",
       "6        0        0        1\n",
       "7        0        0        1\n",
       "8        0        0        1\n",
       "9        0        0        1"
      ]
     },
     "execution_count": 30,
     "metadata": {},
     "output_type": "execute_result"
    }
   ],
   "source": [
    "pd.DataFrame(majority_vote_dict).head(10)"
   ]
  },
  {
   "cell_type": "markdown",
   "id": "c6fcd7d0",
   "metadata": {
    "papermill": {
     "duration": 0.020932,
     "end_time": "2024-02-20T08:06:52.685661",
     "exception": false,
     "start_time": "2024-02-20T08:06:52.664729",
     "status": "completed"
    },
    "tags": []
   },
   "source": [
    "To perform classification on a sample, we perform a majority vote, that is, select the class with the most predictions. We repeat the process for each sample. \n"
   ]
  },
  {
   "cell_type": "code",
   "execution_count": 31,
   "id": "c85adfce",
   "metadata": {
    "execution": {
     "iopub.execute_input": "2024-02-20T08:06:52.729698Z",
     "iopub.status.busy": "2024-02-20T08:06:52.729052Z",
     "iopub.status.idle": "2024-02-20T08:06:52.735858Z",
     "shell.execute_reply": "2024-02-20T08:06:52.734624Z"
    },
    "papermill": {
     "duration": 0.031294,
     "end_time": "2024-02-20T08:06:52.737679",
     "exception": false,
     "start_time": "2024-02-20T08:06:52.706385",
     "status": "completed"
    },
    "tags": []
   },
   "outputs": [
    {
     "data": {
      "text/plain": [
       "array([0, 0, 0, 0, 0, 0, 0, 0, 0, 0, 0, 0, 0, 0, 0, 0, 0, 0, 0, 0, 0, 0,\n",
       "       0, 0, 0, 0, 0, 0, 0, 0, 0, 0, 0, 0, 0, 0, 0, 0, 0, 0, 0, 0, 0, 0,\n",
       "       0, 0, 0, 0, 0, 0, 1, 1, 1, 1, 1, 1, 1, 1, 1, 1, 1, 1, 1, 1, 1, 1,\n",
       "       1, 1, 1, 1, 2, 1, 1, 1, 1, 1, 1, 2, 1, 1, 1, 1, 1, 1, 1, 1, 1, 1,\n",
       "       1, 1, 1, 1, 1, 1, 1, 1, 1, 1, 1, 1, 2, 2, 2, 2, 2, 2, 2, 2, 2, 2,\n",
       "       2, 2, 2, 2, 2, 2, 2, 2, 2, 1, 2, 2, 2, 2, 2, 2, 2, 2, 2, 1, 2, 2,\n",
       "       2, 1, 1, 2, 2, 2, 2, 2, 2, 2, 2, 2, 2, 2, 2, 2, 2, 2])"
      ]
     },
     "execution_count": 31,
     "metadata": {},
     "output_type": "execute_result"
    }
   ],
   "source": [
    "one_vs_one=np.array([np.bincount(sample.astype(int)).argmax() for sample  in majority_vote_array]) \n",
    "one_vs_one\n",
    "    "
   ]
  },
  {
   "cell_type": "markdown",
   "id": "6d6723f7",
   "metadata": {
    "papermill": {
     "duration": 0.020309,
     "end_time": "2024-02-20T08:06:52.779741",
     "exception": false,
     "start_time": "2024-02-20T08:06:52.759432",
     "status": "completed"
    },
    "tags": []
   },
   "source": [
    "We calculate the accuracy:\n"
   ]
  },
  {
   "cell_type": "code",
   "execution_count": 32,
   "id": "9540eafe",
   "metadata": {
    "execution": {
     "iopub.execute_input": "2024-02-20T08:06:52.825637Z",
     "iopub.status.busy": "2024-02-20T08:06:52.824711Z",
     "iopub.status.idle": "2024-02-20T08:06:52.830619Z",
     "shell.execute_reply": "2024-02-20T08:06:52.829924Z"
    },
    "papermill": {
     "duration": 0.031507,
     "end_time": "2024-02-20T08:06:52.832238",
     "exception": false,
     "start_time": "2024-02-20T08:06:52.800731",
     "status": "completed"
    },
    "tags": []
   },
   "outputs": [
    {
     "data": {
      "text/plain": [
       "0.96"
      ]
     },
     "execution_count": 32,
     "metadata": {},
     "output_type": "execute_result"
    }
   ],
   "source": [
    "accuracy_score(y,one_vs_one)"
   ]
  },
  {
   "cell_type": "markdown",
   "id": "45cb323a",
   "metadata": {
    "papermill": {
     "duration": 0.020626,
     "end_time": "2024-02-20T08:06:52.874216",
     "exception": false,
     "start_time": "2024-02-20T08:06:52.853590",
     "status": "completed"
    },
    "tags": []
   },
   "source": [
    "If we compare it to `sklearn`, it's the same! \n"
   ]
  },
  {
   "cell_type": "code",
   "execution_count": 33,
   "id": "67de17c6",
   "metadata": {
    "execution": {
     "iopub.execute_input": "2024-02-20T08:06:52.917583Z",
     "iopub.status.busy": "2024-02-20T08:06:52.916749Z",
     "iopub.status.idle": "2024-02-20T08:06:52.924074Z",
     "shell.execute_reply": "2024-02-20T08:06:52.923135Z"
    },
    "papermill": {
     "duration": 0.031239,
     "end_time": "2024-02-20T08:06:52.926270",
     "exception": false,
     "start_time": "2024-02-20T08:06:52.895031",
     "status": "completed"
    },
    "tags": []
   },
   "outputs": [
    {
     "data": {
      "text/plain": [
       "1.0"
      ]
     },
     "execution_count": 33,
     "metadata": {},
     "output_type": "execute_result"
    }
   ],
   "source": [
    "accuracy_score(yhat,one_vs_one)"
   ]
  }
 ],
 "metadata": {
  "kaggle": {
   "accelerator": "none",
   "dataSources": [],
   "dockerImageVersionId": 30646,
   "isGpuEnabled": false,
   "isInternetEnabled": true,
   "language": "python",
   "sourceType": "notebook"
  },
  "kernelspec": {
   "display_name": "Python 3",
   "language": "python",
   "name": "python3"
  },
  "language_info": {
   "codemirror_mode": {
    "name": "ipython",
    "version": 3
   },
   "file_extension": ".py",
   "mimetype": "text/x-python",
   "name": "python",
   "nbconvert_exporter": "python",
   "pygments_lexer": "ipython3",
   "version": "3.10.13"
  },
  "papermill": {
   "default_parameters": {},
   "duration": 10.974275,
   "end_time": "2024-02-20T08:06:53.467363",
   "environment_variables": {},
   "exception": null,
   "input_path": "__notebook__.ipynb",
   "output_path": "__notebook__.ipynb",
   "parameters": {},
   "start_time": "2024-02-20T08:06:42.493088",
   "version": "2.5.0"
  }
 },
 "nbformat": 4,
 "nbformat_minor": 5
}
